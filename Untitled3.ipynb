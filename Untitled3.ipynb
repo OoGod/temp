{
 "cells": [
  {
   "cell_type": "code",
   "execution_count": null,
   "metadata": {},
   "outputs": [],
   "source": [
    "def threeSum(nums):\n",
    "    nums.sort()\n",
    "    results = []\n",
    "    for i in range(len(nums)-2):\n",
    "        while i>0 and nums[i]==nums[i-1]:\n",
    "            continue\n",
    "        target = -1*nums[i]\n",
    "        j,k = i+1,len(nums)-1\n",
    "        while j<k:\n",
    "            if nums[j]+nums[k]==target:\n",
    "                results.append([nums[i],nums[j],nums[k]])\n",
    "                j += 1\n",
    "            elif nums[j]+nums[k] < target:\n",
    "                j += 1\n",
    "            else:\n",
    "                k -= 1\n",
    "            while j<k and nums[j]==nums[j-1]:\n",
    "                j += 1\n",
    "                \n",
    "    return results\n",
    "\n",
    "\n",
    "if __name__ == \"__main__\":\n",
    "    print(threeSum([-1,1,0,2,-1]))"
   ]
  },
  {
   "cell_type": "code",
   "execution_count": null,
   "metadata": {},
   "outputs": [],
   "source": []
  }
 ],
 "metadata": {
  "kernelspec": {
   "display_name": "Python 3",
   "language": "python",
   "name": "python3"
  },
  "language_info": {
   "codemirror_mode": {
    "name": "ipython",
    "version": 3
   },
   "file_extension": ".py",
   "mimetype": "text/x-python",
   "name": "python",
   "nbconvert_exporter": "python",
   "pygments_lexer": "ipython3",
   "version": "3.6.8"
  }
 },
 "nbformat": 4,
 "nbformat_minor": 2
}
