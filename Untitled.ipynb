{
 "cells": [
  {
   "cell_type": "code",
   "execution_count": 1,
   "metadata": {},
   "outputs": [],
   "source": [
    "from jieba.analyse import *"
   ]
  },
  {
   "cell_type": "code",
   "execution_count": 2,
   "metadata": {},
   "outputs": [],
   "source": [
    "with open('data.txt','r',encoding='utf-8') as f:\n",
    "    data = f.read()"
   ]
  },
  {
   "cell_type": "code",
   "execution_count": 3,
   "metadata": {},
   "outputs": [
    {
     "name": "stderr",
     "output_type": "stream",
     "text": [
      "Building prefix dict from the default dictionary ...\n",
      "Loading model from cache C:\\Users\\zsh\\AppData\\Local\\Temp\\jieba.cache\n",
      "Loading model cost 1.368 seconds.\n",
      "Prefix dict has been built succesfully.\n"
     ]
    },
    {
     "name": "stdout",
     "output_type": "stream",
     "text": [
      "王宝强 0.21295942110429147\n",
      "电影 0.08895142958013766\n",
      "先生 0.0630742234014251\n",
      "魔幻 0.05406358994186235\n",
      "片子 0.05268708685176518\n",
      "超现实 0.05264518105801619\n",
      "导演 0.052514202705303645\n",
      "表演 0.04209611704633603\n",
      "演技 0.040690405061943324\n",
      "现实 0.03973335782924697\n",
      "后半段 0.03411621642753037\n",
      "一部 0.034083767842894734\n",
      "影片 0.032459515299004045\n",
      "影帝 0.028429440667044538\n",
      "女上位 0.026735891642510123\n",
      "农村 0.024650624381983805\n",
      "宝强 0.02419993421639676\n",
      "王宝 0.02419993421639676\n",
      "小梅 0.02312222919182186\n",
      "故事 0.02230095995005263\n"
     ]
    }
   ],
   "source": [
    "for key,wei in extract_tags(data,withWeight=True):\n",
    "    print('%s %s'%(key,wei))"
   ]
  },
  {
   "cell_type": "code",
   "execution_count": 4,
   "metadata": {},
   "outputs": [],
   "source": [
    "import jieba"
   ]
  },
  {
   "cell_type": "code",
   "execution_count": 5,
   "metadata": {},
   "outputs": [],
   "source": [
    "with open('data.txt','r',encoding='utf-8') as f:\n",
    "    data = f.read()"
   ]
  },
  {
   "cell_type": "code",
   "execution_count": 6,
   "metadata": {},
   "outputs": [],
   "source": [
    "jieba.load_userdict('userdict.txt')"
   ]
  },
  {
   "cell_type": "code",
   "execution_count": 7,
   "metadata": {},
   "outputs": [],
   "source": [
    "with open('data.txt','r',encoding='utf-8') as f:\n",
    "    data = f.read()"
   ]
  },
  {
   "cell_type": "code",
   "execution_count": 8,
   "metadata": {},
   "outputs": [
    {
     "name": "stdout",
     "output_type": "stream",
     "text": [
      "王宝强 0.2132183908097284\n",
      "树先生 0.1308385579968788\n",
      "电影 0.0890595991337414\n",
      "魔幻 0.05412933407231455\n",
      "片子 0.05275115708304012\n",
      "超现实 0.05270920032967166\n",
      "导演 0.05257806270048642\n",
      "表演 0.042147308108816374\n",
      "演技 0.04073988670571545\n",
      "现实 0.03978167565392785\n",
      "后半段 0.034157703516822055\n",
      "一部 0.03412521547302391\n",
      "影片 0.03249898775376571\n",
      "影帝 0.028464012341953792\n",
      "女上位 0.026768403873935954\n",
      "农村 0.024680600820226994\n",
      "宝强 0.02422936259201459\n",
      "王宝 0.02422936259201459\n",
      "小梅 0.023150347022213212\n",
      "故事 0.022328079074434536\n"
     ]
    }
   ],
   "source": [
    "for key,wei in extract_tags(data,withWeight=True):\n",
    "    print('%s %s'%(key,wei))"
   ]
  },
  {
   "cell_type": "code",
   "execution_count": 9,
   "metadata": {},
   "outputs": [
    {
     "name": "stdout",
     "output_type": "stream",
     "text": [
      "电影 1.0\n",
      "导演 0.8190666111605203\n",
      "中国 0.7018514349236026\n",
      "现实 0.6371963990349393\n",
      "表演 0.6018596237747513\n",
      "农村 0.5235820514381009\n",
      "影片 0.5052949405700992\n",
      "超现实 0.42228861239187604\n",
      "片子 0.4042427429145309\n",
      "魔幻 0.3735457368855462\n",
      "人物 0.3656550004600494\n",
      "觉得 0.35272805633855775\n",
      "生活 0.32596386789911763\n",
      "没有 0.2970643559634871\n",
      "主题 0.29171512512921466\n",
      "故事 0.2903724983815436\n",
      "风格 0.27801078553140435\n",
      "乡村 0.2692575495709986\n",
      "观众 0.26008987381419674\n",
      "作为 0.258643765710357\n"
     ]
    }
   ],
   "source": [
    "for keyword, weight in textrank(data, withWeight=True):\n",
    "    print('%s %s' % (keyword, weight))"
   ]
  },
  {
   "cell_type": "code",
   "execution_count": 10,
   "metadata": {},
   "outputs": [
    {
     "ename": "SyntaxError",
     "evalue": "invalid syntax (<ipython-input-10-a5b85dd88f47>, line 1)",
     "output_type": "error",
     "traceback": [
      "\u001b[1;36m  File \u001b[1;32m\"<ipython-input-10-a5b85dd88f47>\"\u001b[1;36m, line \u001b[1;32m1\u001b[0m\n\u001b[1;33m    python main.py\u001b[0m\n\u001b[1;37m              ^\u001b[0m\n\u001b[1;31mSyntaxError\u001b[0m\u001b[1;31m:\u001b[0m invalid syntax\n"
     ]
    }
   ],
   "source": [
    "python main.py"
   ]
  },
  {
   "cell_type": "code",
   "execution_count": 11,
   "metadata": {},
   "outputs": [
    {
     "ename": "SyntaxError",
     "evalue": "invalid syntax (<ipython-input-11-dfb300af859a>, line 1)",
     "output_type": "error",
     "traceback": [
      "\u001b[1;36m  File \u001b[1;32m\"<ipython-input-11-dfb300af859a>\"\u001b[1;36m, line \u001b[1;32m1\u001b[0m\n\u001b[1;33m    . main.py\u001b[0m\n\u001b[1;37m    ^\u001b[0m\n\u001b[1;31mSyntaxError\u001b[0m\u001b[1;31m:\u001b[0m invalid syntax\n"
     ]
    }
   ],
   "source": [
    ". main.py"
   ]
  },
  {
   "cell_type": "code",
   "execution_count": 12,
   "metadata": {},
   "outputs": [
    {
     "name": "stdout",
     "output_type": "stream",
     "text": [
      "[{\"episode\":\"\",\"img\":\"https://img3.doubanio.com\\/view\\/photo\\/s_ratio_poster\\/public\\/p1271999126.jpg\",\"title\":\"Hello！树先生\",\"url\":\"https:\\/\\/movie.douban.com\\/subject\\/4135710\\/?suggest=hello\",\"type\":\"movie\",\"year\":\"2011\",\"sub_title\":\"Hello！树先生\",\"id\":\"4135710\"},{\"episode\":\"\",\"img\":\"https://img3.doubanio.com\\/view\\/photo\\/s_ratio_poster\\/public\\/p2351955874.jpg\",\"title\":\"赴汤蹈火\",\"url\":\"https:\\/\\/movie.douban.com\\/subject\\/26389148\\/?suggest=hello\",\"type\":\"movie\",\"year\":\"2016\",\"sub_title\":\"Hell or High Water\",\"id\":\"26389148\"},{\"episode\":\"\",\"img\":\"https://img3.doubanio.com\\/view\\/photo\\/s_ratio_poster\\/public\\/p2286292271.jpg\",\"title\":\"你好，我叫多蕾丝\",\"url\":\"https:\\/\\/movie.douban.com\\/subject\\/26301701\\/?suggest=hello\",\"type\":\"movie\",\"year\":\"2015\",\"sub_title\":\"Hello, My Name Is Doris\",\"id\":\"26301701\"},{\"episode\":\"10\",\"img\":\"https://img3.doubanio.com\\/view\\/photo\\/s_ratio_poster\\/public\\/p1291853463.jpg\",\"title\":\"地狱之轮 第一季\",\"url\":\"https:\\/\\/movie.douban.com\\/subject\\/4933234\\/?suggest=hello\",\"type\":\"movie\",\"year\":\"2011\",\"sub_title\":\"Hell on Wheels\",\"id\":\"4933234\"},{\"episode\":\"16\",\"img\":\"https://img1.doubanio.com\\/view\\/photo\\/s_ratio_poster\\/public\\/p2513358618.jpg\",\"title\":\"Hello，小姐\",\"url\":\"https:\\/\\/movie.douban.com\\/subject\\/2275002\\/?suggest=hello\",\"type\":\"movie\",\"year\":\"2007\",\"sub_title\":\"헬로! 애기씨\",\"id\":\"2275002\"},{\"episode\":\"10\",\"img\":\"https://img3.doubanio.com\\/view\\/photo\\/s_ratio_poster\\/public\\/p1717197866.jpg\",\"title\":\"地狱之轮 第二季\",\"url\":\"https:\\/\\/movie.douban.com\\/subject\\/10568101\\/?suggest=hello\",\"type\":\"movie\",\"year\":\"2012\",\"sub_title\":\"Hell on Wheels\",\"id\":\"10568101\"}]\n"
     ]
    }
   ],
   "source": [
    "import requests\n",
    "import json\n",
    "url = 'https://movie.douban.com/j/subject_suggest?q={}'\n",
    "response = requests.get(url.format('hello'))\n",
    "print(response.text)\n",
    "con = json.loads(response.text)"
   ]
  },
  {
   "cell_type": "code",
   "execution_count": 13,
   "metadata": {},
   "outputs": [
    {
     "name": "stdout",
     "output_type": "stream",
     "text": [
      "赴汤蹈火\n"
     ]
    }
   ],
   "source": [
    "print(con[1]['title'])"
   ]
  },
  {
   "cell_type": "code",
   "execution_count": 14,
   "metadata": {},
   "outputs": [
    {
     "name": "stdout",
     "output_type": "stream",
     "text": [
      "['Hello！树先生', '赴汤蹈火', '你好，我叫多蕾丝', '地狱之轮 第一季', 'Hello，小姐', '地狱之轮 第二季']\n"
     ]
    }
   ],
   "source": [
    "print([i['title'] for i in con])"
   ]
  },
  {
   "cell_type": "code",
   "execution_count": 21,
   "metadata": {},
   "outputs": [],
   "source": [
    "pic = [i['img'] for i in con]"
   ]
  },
  {
   "cell_type": "code",
   "execution_count": 23,
   "metadata": {},
   "outputs": [
    {
     "name": "stdout",
     "output_type": "stream",
     "text": [
      "Hello！树先生已保存\n",
      "赴汤蹈火已保存\n",
      "你好，我叫多蕾丝已保存\n",
      "地狱之轮 第一季已保存\n",
      "Hello，小姐已保存\n",
      "地狱之轮 第二季已保存\n"
     ]
    }
   ],
   "source": [
    "import os\n",
    "BASE_DIR = 'MoviePic'\n",
    "if not os.path.exists(BASE_DIR):\n",
    "    os.mkdir(BASE_DIR)\n",
    "xxxx = 0\n",
    "for i in con:\n",
    "    pic = requests.get(i['img'])\n",
    "    with open(BASE_DIR+'/'+i['title']+'.jpg','wb') as f:\n",
    "        f.write(pic.content)\n",
    "    xxxx += 1\n",
    "    print('%s已保存'%i['title'])"
   ]
  },
  {
   "cell_type": "code",
   "execution_count": 24,
   "metadata": {
    "scrolled": false
   },
   "outputs": [
    {
     "name": "stdout",
     "output_type": "stream",
     "text": [
      "hello\n"
     ]
    }
   ],
   "source": [
    "print('hello')"
   ]
  },
  {
   "cell_type": "code",
   "execution_count": 30,
   "metadata": {},
   "outputs": [
    {
     "ename": "TypeError",
     "evalue": "'WebElement' object is not iterable",
     "output_type": "error",
     "traceback": [
      "\u001b[1;31m---------------------------------------------------------------------------\u001b[0m",
      "\u001b[1;31mTypeError\u001b[0m                                 Traceback (most recent call last)",
      "\u001b[1;32m<ipython-input-30-66f6799a6bbc>\u001b[0m in \u001b[0;36m<module>\u001b[1;34m\u001b[0m\n\u001b[0;32m      5\u001b[0m \u001b[0mdriver\u001b[0m\u001b[1;33m.\u001b[0m\u001b[0mget\u001b[0m\u001b[1;33m(\u001b[0m\u001b[0murl\u001b[0m\u001b[1;33m.\u001b[0m\u001b[0mformat\u001b[0m\u001b[1;33m(\u001b[0m\u001b[1;36m2\u001b[0m\u001b[1;33m)\u001b[0m\u001b[1;33m)\u001b[0m\u001b[1;33m\u001b[0m\u001b[1;33m\u001b[0m\u001b[0m\n\u001b[0;32m      6\u001b[0m \u001b[0mpic\u001b[0m \u001b[1;33m=\u001b[0m \u001b[0mdriver\u001b[0m\u001b[1;33m.\u001b[0m\u001b[0mfind_element_by_xpath\u001b[0m\u001b[1;33m(\u001b[0m\u001b[0mpath\u001b[0m\u001b[1;33m)\u001b[0m\u001b[1;33m\u001b[0m\u001b[1;33m\u001b[0m\u001b[0m\n\u001b[1;32m----> 7\u001b[1;33m \u001b[0mprint\u001b[0m\u001b[1;33m(\u001b[0m\u001b[1;33m[\u001b[0m\u001b[0mi\u001b[0m\u001b[1;33m.\u001b[0m\u001b[0mget_attribute\u001b[0m\u001b[1;33m(\u001b[0m\u001b[1;34m\"src\"\u001b[0m\u001b[1;33m)\u001b[0m \u001b[1;32mfor\u001b[0m \u001b[0mi\u001b[0m \u001b[1;32min\u001b[0m \u001b[0mpic\u001b[0m\u001b[1;33m]\u001b[0m\u001b[1;33m)\u001b[0m\u001b[1;33m\u001b[0m\u001b[1;33m\u001b[0m\u001b[0m\n\u001b[0m",
      "\u001b[1;31mTypeError\u001b[0m: 'WebElement' object is not iterable"
     ]
    }
   ],
   "source": [
    "from selenium import webdriver\n",
    "driver = webdriver.PhantomJS()\n",
    "url = 'https://www.mzitu.com/xinggan/page/{}/'\n",
    "path = \"//img[@class='lazy']\"\n",
    "driver.get(url.format(2))\n",
    "pic = driver.find_element_by_xpath(path)\n",
    "print([i.get_attribute(\"src\") for i in pic])"
   ]
  },
  {
   "cell_type": "code",
   "execution_count": 27,
   "metadata": {},
   "outputs": [
    {
     "name": "stdout",
     "output_type": "stream",
     "text": [
      "<Response [200]>\n"
     ]
    }
   ],
   "source": [
    "print(pic)"
   ]
  },
  {
   "cell_type": "code",
   "execution_count": 47,
   "metadata": {},
   "outputs": [
    {
     "name": "stdout",
     "output_type": "stream",
     "text": [
      "优雅不失性感 长腿尤物杨晨晨情趣蕾丝引人蠢蠢欲动 https://i.meizitu.net/thumbs/2019/04/173994_01d47_236.jpg\n",
      "优雅不失性感 长腿尤物杨晨晨情趣蕾丝引人蠢蠢欲动.jpg已下载\n",
      "绝色国模SOLO尹菲艺术写真 大胆撩人让人热血沸腾 https://i.meizitu.net/thumbs/2019/04/173811_28c22_236.jpg\n",
      "绝色国模SOLO尹菲艺术写真 大胆撩人让人热血沸腾.jpg已下载\n",
      "雪乳美臀细腰红唇 性感女神黄楽然处处诱惑着男人的神经 https://i.meizitu.net/thumbs/2019/04/174243_02c36_236.jpg\n",
      "雪乳美臀细腰红唇 性感女神黄楽然处处诱惑着男人的神经.jpg已下载\n",
      "极品美女艾小青车震幻想第二辑 一丝不挂诱惑升级 https://i.meizitu.net/thumbs/2019/04/177709_28a02_236.jpg\n",
      "极品美女艾小青车震幻想第二辑 一丝不挂诱惑升级.jpg已下载\n",
      "空虚少妇李可可惹火身材又香又嫩 手掩巨乳性感爆棚 https://i.meizitu.net/thumbs/2019/04/177755_28b04_236.jpg\n",
      "空虚少妇李可可惹火身材又香又嫩 手掩巨乳性感爆棚.jpg已下载\n",
      "性感美女Sugar梁莹洗澡全程直播 白嫩娇躯灵动诱人 https://i.meizitu.net/thumbs/2019/04/177860_29a16_236.jpg\n",
      "性感美女Sugar梁莹洗澡全程直播 白嫩娇躯灵动诱人.jpg已下载\n",
      "极品熟妇雪千寻丰满又风骚 上围硕大饱满坚挺傲人 https://i.meizitu.net/thumbs/2019/04/178287_01c05_236.jpg\n",
      "极品熟妇雪千寻丰满又风骚 上围硕大饱满坚挺傲人.jpg已下载\n",
      "性感美女小热巴湿室湿身诱惑 魔鬼身材一览无余 https://i.meizitu.net/thumbs/2019/04/174792_07b67_236.jpg\n",
      "性感美女小热巴湿室湿身诱惑 魔鬼身材一览无余.jpg已下载\n",
      "黑丝欲女冯木木床上尽显万千妩媚 超长美腿可以玩一年 https://i.meizitu.net/thumbs/2019/03/177900_29b52_236.jpg\n",
      "黑丝欲女冯木木床上尽显万千妩媚 超长美腿可以玩一年.jpg已下载\n",
      "媚眼勾魂姿势撩人，香艳美女王雨纯性感妩媚万种风情 https://i.meizitu.net/thumbs/2019/03/173949_01c23_236.jpg\n",
      "媚眼勾魂姿势撩人，香艳美女王雨纯性感妩媚万种风情.jpg已下载\n",
      "性感女神SOLO尹菲学生制服户外露出 豪放秀出白皙胴体 https://i.meizitu.net/thumbs/2019/03/173677_27c17_236.jpg\n",
      "性感女神SOLO尹菲学生制服户外露出 豪放秀出白皙胴体.jpg已下载\n",
      "致命尤物萌汉药荒郊野外衣衫不整 美妙胴体凹凸有致 https://i.meizitu.net/thumbs/2019/03/177662_27c36_236.jpg\n",
      "致命尤物萌汉药荒郊野外衣衫不整 美妙胴体凹凸有致.jpg已下载\n",
      "黑丝女神杨晨晨秀美腿 千娇百媚性感风情 https://i.meizitu.net/thumbs/2019/03/173152_24a31_236.jpg\n",
      "黑丝女神杨晨晨秀美腿 千娇百媚性感风情.jpg已下载\n",
      "香艳美人卓娅祺容貌清秀身姿优美 美乳微露引诱撩人 https://i.meizitu.net/thumbs/2019/03/175272_12c06_236.jpg\n",
      "香艳美人卓娅祺容貌清秀身姿优美 美乳微露引诱撩人.jpg已下载\n",
      "宅男女神妲己Toxic写真上演空姐诱惑 欲露还遮性感撩人 https://i.meizitu.net/thumbs/2019/03/174678_07e06_236.jpg\n",
      "宅男女神妲己Toxic写真上演空姐诱惑 欲露还遮性感撩人.jpg已下载\n",
      "头条女神嫩模如意高清写真 勾人电眼令你神魂颠倒 https://i.meizitu.net/thumbs/2019/03/175378_13b13_236.jpg\n",
      "头条女神嫩模如意高清写真 勾人电眼令你神魂颠倒.jpg已下载\n",
      "看一眼就沦陷，风骚美女芝芝Booty长腿翘臀销魂摄魄 https://i.meizitu.net/thumbs/2019/03/175432_13c43_236.jpg\n",
      "看一眼就沦陷，风骚美女芝芝Booty长腿翘臀销魂摄魄.jpg已下载\n",
      "黑色蕾丝的诱惑：性感女神小热巴酒店偷欢姿势真大胆 https://i.meizitu.net/thumbs/2019/03/170654_22b06_236.jpg\n",
      "黑色蕾丝的诱惑：性感女神小热巴酒店偷欢姿势真大胆.jpg已下载\n",
      "极品美女唐婉儿黑丝美腿写真 身材绝佳让人魂牵梦萦 https://i.meizitu.net/thumbs/2019/03/174158_02a22_236.jpg\n",
      "极品美女唐婉儿黑丝美腿写真 身材绝佳让人魂牵梦萦.jpg已下载\n",
      "性感美女尤妮丝人美波大身材棒，女仆装满足你的幻想 https://i.meizitu.net/thumbs/2019/03/174585_06c32_236.jpg\n",
      "性感美女尤妮丝人美波大身材棒，女仆装满足你的幻想.jpg已下载\n",
      "美臀美腿暗香涌动，宅男女神SOLO尹菲职场秘书OL写真 https://i.meizitu.net/thumbs/2019/03/173911_01b05_236.jpg\n",
      "美臀美腿暗香涌动，宅男女神SOLO尹菲职场秘书OL写真.jpg已下载\n",
      "场面香艳撩人 美腿少妇雪儿Cier无内丝袜大走光 https://i.meizitu.net/thumbs/2019/03/175054_11a16_236.jpg\n",
      "场面香艳撩人 美腿少妇雪儿Cier无内丝袜大走光.jpg已下载\n",
      "性感美女黄楽然血滴子内衣私房魅惑，激情露乳放送福利 https://i.meizitu.net/thumbs/2019/03/174116_01f14_236.jpg\n",
      "性感美女黄楽然血滴子内衣私房魅惑，激情露乳放送福利.jpg已下载\n",
      "性感到爆棚！性感女神奶瓶土肥圆美艳肉体征服宅男 https://i.meizitu.net/thumbs/2019/03/173241_24c26_236.jpg\n",
      "性感到爆棚！性感女神奶瓶土肥圆美艳肉体征服宅男.jpg已下载\n",
      "============================\n",
      "开始下载第2页\n",
      "豪乳尤物杨晨晨高清性感大片 曼妙身姿妩媚销魂 https://i.meizitu.net/thumbs/2019/03/171470_28c12_236.jpg\n",
      "豪乳尤物杨晨晨高清性感大片 曼妙身姿妩媚销魂.jpg已下载\n",
      "波霸女神易阳制服诱惑 变身警花让你乖乖缴械投降 https://i.meizitu.net/thumbs/2019/03/174204_02b03_236.jpg\n",
      "波霸女神易阳制服诱惑 变身警花让你乖乖缴械投降.jpg已下载\n",
      "丽柜模特王炜炜&筱筱联合演绎：激情办公室之丝足诱惑 https://i.meizitu.net/thumbs/2019/03/174514_06b23_236.jpg\n",
      "丽柜模特王炜炜&筱筱联合演绎：激情办公室之丝足诱惑.jpg已下载\n",
      "爱蜜社女神Carry黑丝诱惑 熟女风情令人回味无穷 https://i.meizitu.net/thumbs/2019/03/171261_27b32_236.jpg\n",
      "爱蜜社女神Carry黑丝诱惑 熟女风情令人回味无穷.jpg已下载\n",
      "豪放萝莉小尤奈大尺度人体私房 白净胴体分外诱人 https://i.meizitu.net/thumbs/2019/03/174632_06d05_236.jpg\n",
      "豪放萝莉小尤奈大尺度人体私房 白净胴体分外诱人.jpg已下载\n",
      "极品美女王雨纯艺术摄影，用唯美肉体表达真实的欲望 https://i.meizitu.net/thumbs/2019/03/174722_06e08_236.jpg\n",
      "极品美女王雨纯艺术摄影，用唯美肉体表达真实的欲望.jpg已下载\n",
      "大胆姿势层出不穷 豪放美女小探戈撩人床照惹人上火 https://i.meizitu.net/thumbs/2019/03/172429_02d15_236.jpg\n",
      "大胆姿势层出不穷 豪放美女小探戈撩人床照惹人上火.jpg已下载\n",
      "性感美女心妍小公主寂寞难耐 床上半裸激情翻滚 https://i.meizitu.net/thumbs/2019/03/173495_26b01_236.jpg\n",
      "性感美女心妍小公主寂寞难耐 床上半裸激情翻滚.jpg已下载\n",
      "性感美女卓娅祺浴室撩人性感图片 惹火娇躯动人心弦 https://i.meizitu.net/thumbs/2019/03/174381_05c05_236.jpg\n",
      "性感美女卓娅祺浴室撩人性感图片 惹火娇躯动人心弦.jpg已下载\n",
      "这才叫童颜巨乳！美少女静香Mandy前凸后翘身材丰满 https://i.meizitu.net/thumbs/2019/03/174330_05b28_236.jpg\n",
      "这才叫童颜巨乳！美少女静香Mandy前凸后翘身材丰满.jpg已下载\n",
      "清纯尤物徐微微泡汤直播 香艳画面令人躁动不安 https://i.meizitu.net/thumbs/2019/03/174290_05a10_236.jpg\n",
      "清纯尤物徐微微泡汤直播 香艳画面令人躁动不安.jpg已下载\n",
      "极品美女SOLO尹菲性感图片 诱人美臀叫人神魂颠倒 https://i.meizitu.net/thumbs/2019/03/172985_22c10_236.jpg\n",
      "极品美女SOLO尹菲性感图片 诱人美臀叫人神魂颠倒.jpg已下载\n",
      "苗条美女Miko酱性感床照 黑丝美腿身材超火辣 https://i.meizitu.net/thumbs/2019/03/172012_01c40_236.jpg\n",
      "苗条美女Miko酱性感床照 黑丝美腿身材超火辣.jpg已下载\n",
      "巨乳女神易阳Silvia化身温柔女仆 销魂缠绵让人欲罢不能 https://i.meizitu.net/thumbs/2019/03/173404_25c26_236.jpg\n",
      "巨乳女神易阳Silvia化身温柔女仆 销魂缠绵让人欲罢不能.jpg已下载\n",
      "性感美女芝芝Booty浴室写真 曼妙娇躯紧致动人 https://i.meizitu.net/thumbs/2019/03/172787_20b01_236.jpg\n",
      "性感美女芝芝Booty浴室写真 曼妙娇躯紧致动人.jpg已下载\n",
      "被奴役的女神  丽柜模特筱筱上演日式捆绑福利 https://i.meizitu.net/thumbs/2019/03/173340_25b11_236.jpg\n",
      "被奴役的女神  丽柜模特筱筱上演日式捆绑福利.jpg已下载\n",
      "甜心女神杨晨晨黑丝魅惑 沙发激情上演性感一幕 https://i.meizitu.net/thumbs/2019/03/170904_24a27_236.jpg\n",
      "甜心女神杨晨晨黑丝魅惑 沙发激情上演性感一幕.jpg已下载\n",
      "极品美女唐婉儿情趣内衣写真图片 床上身姿香艳醉人 https://i.meizitu.net/thumbs/2019/03/173588_27a05_236.jpg\n",
      "极品美女唐婉儿情趣内衣写真图片 床上身姿香艳醉人.jpg已下载\n",
      "极品尤物娜依灵儿人体写真 赤身裸体倾情演绎奶油诱惑 https://i.meizitu.net/thumbs/2019/03/172832_20c20_236.jpg\n",
      "极品尤物娜依灵儿人体写真 赤身裸体倾情演绎奶油诱惑.jpg已下载\n",
      "丝足控的福利 丽柜Model雪糕&筱筱办公室上演激情一幕 https://i.meizitu.net/thumbs/2019/03/172876_22a59_236.jpg\n",
      "丝足控的福利 丽柜Model雪糕&筱筱办公室上演激情一幕.jpg已下载\n",
      "宅男女神卓娅祺情趣制服诱惑 诱人身体曲线性感唯美 https://i.meizitu.net/thumbs/2019/03/172937_22b23_236.jpg\n",
      "宅男女神卓娅祺情趣制服诱惑 诱人身体曲线性感唯美.jpg已下载\n",
      "硕大的肥臀超带感 美女模特胡润曦身材火辣女人味十足 https://i.meizitu.net/thumbs/2019/03/173023_23a24_236.jpg\n",
      "硕大的肥臀超带感 美女模特胡润曦身材火辣女人味十足.jpg已下载\n",
      "杨晨晨&芝芝Body联袂演绎：幻想的女神之家访的诱惑 https://i.meizitu.net/thumbs/2019/03/172271_02a21_236.jpg\n",
      "杨晨晨&芝芝Body联袂演绎：幻想的女神之家访的诱惑.jpg已下载\n",
      "气质少妇丁筱南惹火情趣内衣照 撅臀姿势性感勾魂 https://i.meizitu.net/thumbs/2019/03/171557_29a45_236.jpg\n",
      "气质少妇丁筱南惹火情趣内衣照 撅臀姿势性感勾魂.jpg已下载\n",
      "============================\n",
      "开始下载第3页\n",
      "蜜桃尤物Suki半裸写真 紧致美乳肉香四溢 https://i.meizitu.net/thumbs/2019/03/172065_01d27_236.jpg\n",
      "蜜桃尤物Suki半裸写真 紧致美乳肉香四溢.jpg已下载\n",
      "风情爆乳娘Egg尤妮丝性感写真 透明睡衣尽显美妙身材 https://i.meizitu.net/thumbs/2019/03/171907_01a30_236.jpg\n",
      "风情爆乳娘Egg尤妮丝性感写真 透明睡衣尽显美妙身材.jpg已下载\n",
      "美女芝芝Booty肉丝美腿高清图片 各种姿势诱惑不断 https://i.meizitu.net/thumbs/2019/03/167044_03b53_236.jpg\n",
      "美女芝芝Booty肉丝美腿高清图片 各种姿势诱惑不断.jpg已下载\n",
      "美女少妇糯米NM空姐制服诱惑，撩裙撅臀狂野风骚 https://i.meizitu.net/thumbs/2019/03/171516_28d31_236.jpg\n",
      "美女少妇糯米NM空姐制服诱惑，撩裙撅臀狂野风骚.jpg已下载\n",
      "大胸美女瑞瑞ruirui真人COS不知火舞 电眼红唇美到惊艳 https://i.meizitu.net/thumbs/2019/03/171699_29d44_236.jpg\n",
      "大胸美女瑞瑞ruirui真人COS不知火舞 电眼红唇美到惊艳.jpg已下载\n",
      "短发美女冯木木黑丝短裙风情无限 秀腿露底惹火上火 https://i.meizitu.net/thumbs/2019/03/171842_30c13_236.jpg\n",
      "短发美女冯木木黑丝短裙风情无限 秀腿露底惹火上火.jpg已下载\n",
      "清秀甜美不失性感，秀人女神小仓鼠成熟气质百般撩人 https://i.meizitu.net/thumbs/2019/03/171398_28a07_236.jpg\n",
      "清秀甜美不失性感，秀人女神小仓鼠成熟气质百般撩人.jpg已下载\n",
      "晋升女神！极品美女Angela喜欢猫销魂床照曝光 https://i.meizitu.net/thumbs/2019/03/171956_01b04_236.jpg\n",
      "晋升女神！极品美女Angela喜欢猫销魂床照曝光.jpg已下载\n",
      "性感女神黄楽然大尺度艺术照 脱衣露酥胸撩拨欲望 https://i.meizitu.net/thumbs/2019/03/171130_25b11_236.jpg\n",
      "性感女神黄楽然大尺度艺术照 脱衣露酥胸撩拨欲望.jpg已下载\n",
      "美女模特白一晗性感写真 一对大胸波涛汹涌 https://i.meizitu.net/thumbs/2019/03/171195_27a19_236.jpg\n",
      "美女模特白一晗性感写真 一对大胸波涛汹涌.jpg已下载\n",
      "尤物王雨纯绳の调教SM艳照 各种尺度囚禁你！ https://i.meizitu.net/thumbs/2019/03/171304_27c04_236.jpg\n",
      "尤物王雨纯绳の调教SM艳照 各种尺度囚禁你！.jpg已下载\n",
      "满屏酥胸与美腿 性感美女小沫琳齐B小短裙黑丝诱惑 https://i.meizitu.net/thumbs/2019/03/175090_11b15_236.jpg\n",
      "满屏酥胸与美腿 性感美女小沫琳齐B小短裙黑丝诱惑.jpg已下载\n",
      "素颜女神狐小妖电臀小蛮腰真带劲 沙发诱惑欲罢不能 https://i.meizitu.net/thumbs/2019/03/171608_29b09_236.jpg\n",
      "素颜女神狐小妖电臀小蛮腰真带劲 沙发诱惑欲罢不能.jpg已下载\n",
      "极品熟女穿性感内衣在床上撩拨，韵味十足风情万种 https://i.meizitu.net/thumbs/2019/03/171795_30b32_236.jpg\n",
      "极品熟女穿性感内衣在床上撩拨，韵味十足风情万种.jpg已下载\n",
      "萝莉小九月独特美貌颜值爆表，精致五官尽显混血风情 https://i.meizitu.net/thumbs/2019/03/171041_24e37_236.jpg\n",
      "萝莉小九月独特美貌颜值爆表，精致五官尽显混血风情.jpg已下载\n",
      "撩人的美腿黑色的内衣，女神小热巴宽衣解带上下失守 https://i.meizitu.net/thumbs/2019/03/170736_24b40_236.jpg\n",
      "撩人的美腿黑色的内衣，女神小热巴宽衣解带上下失守.jpg已下载\n",
      "极品御姐杜花花魔鬼身材惹火吸睛 胸前纹身气质非凡 https://i.meizitu.net/thumbs/2019/03/174947_09b65_236.jpg\n",
      "极品御姐杜花花魔鬼身材惹火吸睛 胸前纹身气质非凡.jpg已下载\n",
      "性感眼镜娘雅雅Yaya丝袜美腿福利 爆乳身材令人喷血 https://i.meizitu.net/thumbs/2019/03/174762_07a23_236.jpg\n",
      "性感眼镜娘雅雅Yaya丝袜美腿福利 爆乳身材令人喷血.jpg已下载\n",
      "极品美女奶瓶土肥圆矮挫丑黑穷前凸后翘美艳无比 https://i.meizitu.net/thumbs/2019/03/170806_23b27_236.jpg\n",
      "极品美女奶瓶土肥圆矮挫丑黑穷前凸后翘美艳无比.jpg已下载\n",
      "花漾写真周于希真人连环画：当快递员遇到性感女主人 https://i.meizitu.net/thumbs/2019/03/174433_06a32_236.jpg\n",
      "花漾写真周于希真人连环画：当快递员遇到性感女主人.jpg已下载\n",
      "温婉美人栗子Riz大胆外拍胸器逼人 丝滑肌肤柔嫩诱人 https://i.meizitu.net/thumbs/2019/03/174860_07c09_236.jpg\n",
      "温婉美人栗子Riz大胆外拍胸器逼人 丝滑肌肤柔嫩诱人.jpg已下载\n",
      "丰乳翘臀淋漓尽显 古典美女桃子marry性感演绎旗袍诱惑 https://i.meizitu.net/thumbs/2019/03/173541_26c30_236.jpg\n",
      "丰乳翘臀淋漓尽显 古典美女桃子marry性感演绎旗袍诱惑.jpg已下载\n",
      "气质少妇艾小青豹纹内衣性感写真 乳球半露肉感十足 https://i.meizitu.net/thumbs/2019/03/173063_23b32_236.jpg\n"
     ]
    },
    {
     "name": "stdout",
     "output_type": "stream",
     "text": [
      "气质少妇艾小青豹纹内衣性感写真 乳球半露肉感十足.jpg已下载\n",
      "极品美女张雨萌性感床照 双手遮胸妩媚撩人 https://i.meizitu.net/thumbs/2019/03/173109_23c01_236.jpg\n",
      "极品美女张雨萌性感床照 双手遮胸妩媚撩人.jpg已下载\n",
      "============================\n",
      "开始下载第4页\n",
      "穿衣显瘦脱衣有肉 粉嫩小模比基尼写真惊现乳牛身材 https://i.meizitu.net/thumbs/2019/03/173760_28b28_236.jpg\n",
      "穿衣显瘦脱衣有肉 粉嫩小模比基尼写真惊现乳牛身材.jpg已下载\n",
      "萌妹李宓儿32F爆乳现青筋，情趣制服诱惑销魂惹火 https://i.meizitu.net/thumbs/2019/03/170563_21b29_236.jpg\n",
      "萌妹李宓儿32F爆乳现青筋，情趣制服诱惑销魂惹火.jpg已下载\n",
      "有故事！与王雨纯日本之旅，香艳制服让你销魂难忘 https://i.meizitu.net/thumbs/2019/03/170263_19d41_236.jpg\n",
      "有故事！与王雨纯日本之旅，香艳制服让你销魂难忘.jpg已下载\n",
      "胸贴有暗示 销魂美女黄楽然吧台开腿野性豪放爽不可言 https://i.meizitu.net/thumbs/2019/03/166044_30e09_236.jpg\n",
      "胸贴有暗示 销魂美女黄楽然吧台开腿野性豪放爽不可言.jpg已下载\n",
      "小身材大诱惑，软妹子小九月鲜嫩双乳雪白勾人 https://i.meizitu.net/thumbs/2019/03/173721_28a25_236.jpg\n",
      "小身材大诱惑，软妹子小九月鲜嫩双乳雪白勾人.jpg已下载\n",
      "温婉柔美性感十足 风情少妇宋KiKi轻纱薄裙飘逸动人 https://i.meizitu.net/thumbs/2019/03/168454_07i05_236.jpg\n",
      "温婉柔美性感十足 风情少妇宋KiKi轻纱薄裙飘逸动人.jpg已下载\n",
      "丰满双乳挡不住 爆乳美眉唐婉儿情趣内衣性感图片 https://i.meizitu.net/thumbs/2019/03/171747_30a39_236.jpg\n",
      "丰满双乳挡不住 爆乳美眉唐婉儿情趣内衣性感图片.jpg已下载\n",
      "把挑逗与诱惑提升到极致 尤果美女栗子烈焰红唇让人垂涎 https://i.meizitu.net/thumbs/2019/03/173845_01a23_236.jpg\n",
      "把挑逗与诱惑提升到极致 尤果美女栗子烈焰红唇让人垂涎.jpg已下载\n",
      "美女模特雅雯身材惹火长相甜美 超长美腿堪称极品 https://i.meizitu.net/thumbs/2019/03/174061_01e35_236.jpg\n",
      "美女模特雅雯身材惹火长相甜美 超长美腿堪称极品.jpg已下载\n",
      "粉红内衣女郎妲己Toxic妩媚撩人私房照 D杯美胸尽显无余 https://i.meizitu.net/thumbs/2019/03/169651_15b03_236.jpg\n",
      "粉红内衣女郎妲己Toxic妩媚撩人私房照 D杯美胸尽显无余.jpg已下载\n",
      "金屋藏娇杨晨晨 酥胸美腿身材完美 https://i.meizitu.net/thumbs/2019/03/170105_18a15_236.jpg\n",
      "金屋藏娇杨晨晨 酥胸美腿身材完美.jpg已下载\n",
      "性感美女周于希情趣酒店诱惑 迷人身姿令人难以抗拒 https://i.meizitu.net/thumbs/2019/03/170160_18b15_236.jpg\n",
      "性感美女周于希情趣酒店诱惑 迷人身姿令人难以抗拒.jpg已下载\n",
      "秀人美女私语baby私房图片 丰满酥胸水蜜桃般光滑诱人 https://i.meizitu.net/thumbs/2019/03/170510_21a09_236.jpg\n",
      "秀人美女私语baby私房图片 丰满酥胸水蜜桃般光滑诱人.jpg已下载\n",
      "丝足控福利 气质美女小热巴丝袜美腿喷血诱人 https://i.meizitu.net/thumbs/2019/02/170206_18c10_236.jpg\n",
      "丝足控福利 气质美女小热巴丝袜美腿喷血诱人.jpg已下载\n",
      "透视内衣现美乳 销魂美女黄楽然魔鬼身材吸精无数 https://i.meizitu.net/thumbs/2019/02/166619_01f41_236.jpg\n",
      "透视内衣现美乳 销魂美女黄楽然魔鬼身材吸精无数.jpg已下载\n",
      "解放雪白美体，粉嫩御姐周于希翘臀美腿销魂诱人 https://i.meizitu.net/thumbs/2019/02/170612_22a07_236.jpg\n",
      "解放雪白美体，粉嫩御姐周于希翘臀美腿销魂诱人.jpg已下载\n",
      "纯情与魅惑 与女神徐微微mia的快乐同居生活 https://i.meizitu.net/thumbs/2019/02/166772_02a44_236.jpg\n",
      "纯情与魅惑 与女神徐微微mia的快乐同居生活.jpg已下载\n",
      "撕碎黑丝搔首弄姿 美腿少妇萌汉药baby令人想入非非 https://i.meizitu.net/thumbs/2019/02/170353_19f09_236.jpg\n",
      "撕碎黑丝搔首弄姿 美腿少妇萌汉药baby令人想入非非.jpg已下载\n",
      "模特卿卿清凉艺术写真 清新可人又不失性感 https://i.meizitu.net/thumbs/2019/02/170307_19e41_236.jpg\n",
      "模特卿卿清凉艺术写真 清新可人又不失性感.jpg已下载\n",
      "清纯脸蛋似萝莉 大胸美女小尤奈性感写真粉嫩诱人 https://i.meizitu.net/thumbs/2019/02/169799_16a26_236.jpg\n",
      "清纯脸蛋似萝莉 大胸美女小尤奈性感写真粉嫩诱人.jpg已下载\n",
      "清纯软妹小九月扮女佣当厨娘 娇羞露臀玲珑柔情 https://i.meizitu.net/thumbs/2019/02/170468_20b07_236.jpg\n",
      "清纯软妹小九月扮女佣当厨娘 娇羞露臀玲珑柔情.jpg已下载\n",
      "轻熟美女泡芙Milk性感图片 黑色内衣尽显御姐风范 https://i.meizitu.net/thumbs/2019/02/169841_16c10_236.jpg\n",
      "轻熟美女泡芙Milk性感图片 黑色内衣尽显御姐风范.jpg已下载\n",
      "抚媚妖娆蛇妖 女神奶瓶土肥圆大秀性感酥胸纤细美腿 https://i.meizitu.net/thumbs/2019/02/169971_17a30_236.jpg\n",
      "抚媚妖娆蛇妖 女神奶瓶土肥圆大秀性感酥胸纤细美腿.jpg已下载\n",
      "美少妇陈嘉嘉身姿婀娜风韵犹存 丰胸细腰格外迷人 https://i.meizitu.net/thumbs/2019/02/173289_25a10_236.jpg\n",
      "美少妇陈嘉嘉身姿婀娜风韵犹存 丰胸细腰格外迷人.jpg已下载\n",
      "============================\n",
      "开始下载第5页\n",
      "风骚美少妇雪千紫情趣内衣魅惑 舞动的身姿撩人心弦 https://i.meizitu.net/thumbs/2019/02/173190_24b39_236.jpg\n",
      "风骚美少妇雪千紫情趣内衣魅惑 舞动的身姿撩人心弦.jpg已下载\n",
      "丰腴少妇艺文Eva气质绝佳，皮肤白里透红令人神往 https://i.meizitu.net/thumbs/2019/02/165600_29b25_236.jpg\n",
      "丰腴少妇艺文Eva气质绝佳，皮肤白里透红令人神往.jpg已下载\n",
      "白嫩小美女绯月樱撩衣露胸火辣无比 https://i.meizitu.net/thumbs/2019/02/165805_29f09_236.jpg\n",
      "白嫩小美女绯月樱撩衣露胸火辣无比.jpg已下载\n",
      "性感御姐双乳紧凑饱满，伸腿挑逗让你欲罢不能 https://i.meizitu.net/thumbs/2019/02/166728_01a27_236.jpg\n",
      "性感御姐双乳紧凑饱满，伸腿挑逗让你欲罢不能.jpg已下载\n",
      "香车配美人 女神尤物Egg尤妮丝户外写真画面太销魂 https://i.meizitu.net/thumbs/2019/02/169908_16d02_236.jpg\n",
      "香车配美人 女神尤物Egg尤妮丝户外写真画面太销魂.jpg已下载\n",
      "性感美女黄楽然私房人体艺术照 黑丝魅惑勾引宅男 https://i.meizitu.net/thumbs/2019/02/168587_09c01_236.jpg\n",
      "性感美女黄楽然私房人体艺术照 黑丝魅惑勾引宅男.jpg已下载\n",
      "遮不住的风情 女神级美女小热巴香艳浴巾照曝光 https://i.meizitu.net/thumbs/2019/02/169609_15a19_236.jpg\n",
      "遮不住的风情 女神级美女小热巴香艳浴巾照曝光.jpg已下载\n",
      "真大！大胸萝莉林美惠子性感女仆装又纯又撩人 https://i.meizitu.net/thumbs/2019/02/167579_05c04_236.jpg\n",
      "真大！大胸萝莉林美惠子性感女仆装又纯又撩人.jpg已下载\n",
      "火辣美女张雨萌性感内衣写真 劲爆清凉福利满满 https://i.meizitu.net/thumbs/2019/02/169319_13a42_236.jpg\n",
      "火辣美女张雨萌性感内衣写真 劲爆清凉福利满满.jpg已下载\n",
      "清纯护士VS黑丝教师 尤蜜荟唐婉儿制服诱惑放送福利 https://i.meizitu.net/thumbs/2019/02/170059_17c45_236.jpg\n",
      "清纯护士VS黑丝教师 尤蜜荟唐婉儿制服诱惑放送福利.jpg已下载\n",
      "日系软萌妹子小九月大尺度私房图片 性感酮体娇羞迷人 https://i.meizitu.net/thumbs/2019/02/172583_19a09_236.jpg\n",
      "日系软萌妹子小九月大尺度私房图片 性感酮体娇羞迷人.jpg已下载\n",
      "不怕吸干你就来 妖娆美女多香子风骚入骨欲望难填 https://i.meizitu.net/thumbs/2019/02/165756_29e33_236.jpg\n",
      "不怕吸干你就来 妖娆美女多香子风骚入骨欲望难填.jpg已下载\n",
      "丰满上围盖不住 一代乳神易阳性感写真演绎情趣诱惑 https://i.meizitu.net/thumbs/2019/02/169694_15d27_236.jpg\n",
      "丰满上围盖不住 一代乳神易阳性感写真演绎情趣诱惑.jpg已下载\n",
      "嫩模奶瓶土肥圆矮挫性感图片 变身厨娘放送元宵福利 https://i.meizitu.net/thumbs/2019/02/172740_20a04_236.jpg\n",
      "嫩模奶瓶土肥圆矮挫性感图片 变身厨娘放送元宵福利.jpg已下载\n",
      "丽柜Model筱筱绳艺捆绑写真套图 酥胸红唇高冷撩人 https://i.meizitu.net/thumbs/2019/02/172671_19c45_236.jpg\n",
      "丽柜Model筱筱绳艺捆绑写真套图 酥胸红唇高冷撩人.jpg已下载\n",
      "前卫大胆的火辣少妇，波涛汹涌欲望满满 https://i.meizitu.net/thumbs/2019/02/166278_31e14_236.jpg\n",
      "前卫大胆的火辣少妇，波涛汹涌欲望满满.jpg已下载\n",
      "乳神妲己Toxic性感内衣诱惑图片 惹火身材完美展现 https://i.meizitu.net/thumbs/2019/02/172481_03a38_236.jpg\n",
      "乳神妲己Toxic性感内衣诱惑图片 惹火身材完美展现.jpg已下载\n",
      "肥臀尤物Manuela玛鲁娜邀您野餐 诱人胴体色香俱全 https://i.meizitu.net/thumbs/2019/02/172382_02c29_236.jpg\n",
      "肥臀尤物Manuela玛鲁娜邀您野餐 诱人胴体色香俱全.jpg已下载\n",
      "极品美女黄楽然妩媚床照 玉体横陈释放性感 https://i.meizitu.net/thumbs/2019/02/169165_12b40_236.jpg\n",
      "极品美女黄楽然妩媚床照 玉体横陈释放性感.jpg已下载\n",
      "春心已荡漾 性感美女心妍小公主热情似火霸气侧漏 https://i.meizitu.net/thumbs/2019/02/170016_17b01_236.jpg\n",
      "春心已荡漾 性感美女心妍小公主热情似火霸气侧漏.jpg已下载\n",
      "气质型女模小热巴性感图片 人美腿长尽显御姐范 https://i.meizitu.net/thumbs/2019/02/169405_13c37_236.jpg\n",
      "气质型女模小热巴性感图片 人美腿长尽显御姐范.jpg已下载\n",
      "傲人豪乳晋升乳神 气质美女徐微微双手遮点性感至极 https://i.meizitu.net/thumbs/2019/02/169364_13b06_236.jpg\n",
      "傲人豪乳晋升乳神 气质美女徐微微双手遮点性感至极.jpg已下载\n",
      "苗条美女Miko酱齐B包臀裙清凉写真 蜂腰美腿身材完美 https://i.meizitu.net/thumbs/2019/02/168633_09d23_236.jpg\n",
      "苗条美女Miko酱齐B包臀裙清凉写真 蜂腰美腿身材完美.jpg已下载\n",
      "女神SOLO尹菲居家の诱惑：白天到黑夜，卧室到厨房 https://i.meizitu.net/thumbs/2019/02/169122_12a25_236.jpg\n",
      "女神SOLO尹菲居家の诱惑：白天到黑夜，卧室到厨房.jpg已下载\n",
      "============================\n",
      "开始下载第6页\n",
      "肉感美女刘钰儿性感图片，丰满成熟女人味十足 https://i.meizitu.net/thumbs/2019/02/169017_10d01_236.jpg\n",
      "肉感美女刘钰儿性感图片，丰满成熟女人味十足.jpg已下载\n",
      "模特心妍小公主黑丝魅惑 袒胸露乳频频走光 https://i.meizitu.net/thumbs/2019/02/169049_11a21_236.jpg\n",
      "模特心妍小公主黑丝魅惑 袒胸露乳频频走光.jpg已下载\n",
      "性感兔女郎Cris卓娅祺美腿写真 甜美的笑容酥到你心坎 https://i.meizitu.net/thumbs/2019/02/168975_10c07_236.jpg\n",
      "性感兔女郎Cris卓娅祺美腿写真 甜美的笑容酥到你心坎.jpg已下载\n",
      "性感美女妲己Toxic日本和服写真集 爆乳翘臀赏心悦目 https://i.meizitu.net/thumbs/2019/02/169078_11b08_236.jpg\n",
      "性感美女妲己Toxic日本和服写真集 爆乳翘臀赏心悦目.jpg已下载\n",
      "国模美女冰冰儿情趣内衣艺术图片 摸胸开腿极致风骚 https://i.meizitu.net/thumbs/2019/02/165327_28i38_236.jpg\n",
      "国模美女冰冰儿情趣内衣艺术图片 摸胸开腿极致风骚.jpg已下载\n",
      "性感小妖精黄楽然野外露出 大胆奔放骚气十足 https://i.meizitu.net/thumbs/2019/02/172116_01e28_236.jpg\n",
      "性感小妖精黄楽然野外露出 大胆奔放骚气十足.jpg已下载\n",
      "宅男女神王雨纯人体艺术写真 风骚惹火姿势销魂 https://i.meizitu.net/thumbs/2019/02/172525_03b34_236.jpg\n",
      "宅男女神王雨纯人体艺术写真 风骚惹火姿势销魂.jpg已下载\n",
      "黑丝诱惑、SM捆绑 极品美熟妇俞夕梦风韵十足花样百出 https://i.meizitu.net/thumbs/2019/02/165454_28l35_236.jpg\n",
      "黑丝诱惑、SM捆绑 极品美熟妇俞夕梦风韵十足花样百出.jpg已下载\n",
      "黑丝OL奶瓶土肥圆矮非常性感 袒胸露乳诱惑老板 https://i.meizitu.net/thumbs/2019/02/168495_09a37_236.jpg\n",
      "黑丝OL奶瓶土肥圆矮非常性感 袒胸露乳诱惑老板.jpg已下载\n",
      "绝美少妇俞夕梦浴室迷情 湿身诱惑散发成熟的味道 https://i.meizitu.net/thumbs/2019/02/167477_05a16_236.jpg\n",
      "绝美少妇俞夕梦浴室迷情 湿身诱惑散发成熟的味道.jpg已下载\n",
      "日系软妹清纯又可爱 少女的青涩变成害羞的诱惑 https://i.meizitu.net/thumbs/2019/02/172316_02b19_236.jpg\n",
      "日系软妹清纯又可爱 少女的青涩变成害羞的诱惑.jpg已下载\n",
      "极品美熟娘谭睿琪终级诱惑：吃香蕉 https://i.meizitu.net/thumbs/2019/02/168206_07d50_236.jpg\n",
      "极品美熟娘谭睿琪终级诱惑：吃香蕉.jpg已下载\n",
      "美女模特李可可丝袜短裙秀美腿，凹凸身材淋漓尽现 https://i.meizitu.net/thumbs/2019/02/168883_10b28_236.jpg\n",
      "美女模特李可可丝袜短裙秀美腿，凹凸身材淋漓尽现.jpg已下载\n",
      "风骚尤物王雨纯性感图片 曼妙胴体丰盈饱满香艳诱人 https://i.meizitu.net/thumbs/2019/02/172205_01f51_236.jpg\n",
      "风骚尤物王雨纯性感图片 曼妙胴体丰盈饱满香艳诱人.jpg已下载\n",
      "熟女味道满满溢出 极品人妻余馨妍蕾丝睡衣风骚诱人 https://i.meizitu.net/thumbs/2019/02/167141_03d06_236.jpg\n",
      "熟女味道满满溢出 极品人妻余馨妍蕾丝睡衣风骚诱人.jpg已下载\n",
      "性感美女奶瓶周妍希私密照片，长腿美乳养眼动人 https://i.meizitu.net/thumbs/2019/02/168326_07f12_236.jpg\n",
      "性感美女奶瓶周妍希私密照片，长腿美乳养眼动人.jpg已下载\n",
      "豪放欲女瑞瑞ruirui湿身挑逗，寂寞难耐撩拨心弦 https://i.meizitu.net/thumbs/2019/02/167192_03e25_236.jpg\n",
      "豪放欲女瑞瑞ruirui湿身挑逗，寂寞难耐撩拨心弦.jpg已下载\n",
      "老司机开车啦，气质小姐姐杨晨晨带你进小树林 https://i.meizitu.net/thumbs/2019/02/168541_09b32_236.jpg\n",
      "老司机开车啦，气质小姐姐杨晨晨带你进小树林.jpg已下载\n",
      "美厨娘易阳Silvia黑丝短裙劲爆惹火 超级大奶让人血脉喷张 https://i.meizitu.net/thumbs/2019/02/166130_31b09_236.jpg\n",
      "美厨娘易阳Silvia黑丝短裙劲爆惹火 超级大奶让人血脉喷张.jpg已下载\n",
      "全是霸屏胸器，2018尤蜜荟人体艺术写真集锦 https://i.meizitu.net/thumbs/2019/01/167298_04b24_236.jpg\n",
      "全是霸屏胸器，2018尤蜜荟人体艺术写真集锦.jpg已下载\n",
      "蒙面女郎谭睿琪浪漫与刺激双诱惑，简直难以抗拒 https://i.meizitu.net/thumbs/2019/01/168151_07c42_236.jpg\n",
      "蒙面女郎谭睿琪浪漫与刺激双诱惑，简直难以抗拒.jpg已下载\n",
      "天使面容魔鬼身材 清秀女神唐婉儿白嫩娇躯撩动人心 https://i.meizitu.net/thumbs/2019/01/170998_24d17_236.jpg\n",
      "天使面容魔鬼身材 清秀女神唐婉儿白嫩娇躯撩动人心.jpg已下载\n",
      "丰腴上围撑爆内衣 微胖小姐姐杨漫妮貌美童颜骚气外露 https://i.meizitu.net/thumbs/2019/01/167924_06c08_236.jpg\n"
     ]
    },
    {
     "name": "stdout",
     "output_type": "stream",
     "text": [
      "丰腴上围撑爆内衣 微胖小姐姐杨漫妮貌美童颜骚气外露.jpg已下载\n",
      "甜美尤物徐微微透明睡衣私房照 妩媚红唇诱惑十足 https://i.meizitu.net/thumbs/2019/01/166998_03a27_236.jpg\n",
      "甜美尤物徐微微透明睡衣私房照 妩媚红唇诱惑十足.jpg已下载\n",
      "============================\n",
      "开始下载第7页\n",
      "性感美女谭睿琪情趣SM套图，高级诱惑振奋人心 https://i.meizitu.net/thumbs/2019/01/168025_07a34_236.jpg\n",
      "性感美女谭睿琪情趣SM套图，高级诱惑振奋人心.jpg已下载\n",
      "性感小少妇黄楽然美乳诱惑人体艺术 似水柔情韵味十足 https://i.meizitu.net/thumbs/2019/01/167879_06b15_236.jpg\n",
      "性感小少妇黄楽然美乳诱惑人体艺术 似水柔情韵味十足.jpg已下载\n",
      "女秘书身材高挑前凸后翘 36D巨胸让人瞬间窒息 https://i.meizitu.net/thumbs/2019/01/167523_05b13_236.jpg\n",
      "女秘书身材高挑前凸后翘 36D巨胸让人瞬间窒息.jpg已下载\n",
      "一般人惹不起！美艳熟妇伊诺硕大肥美风韵犹存 https://i.meizitu.net/thumbs/2019/01/170959_24c02_236.jpg\n",
      "一般人惹不起！美艳熟妇伊诺硕大肥美风韵犹存.jpg已下载\n",
      "头条女神韩秀冉大秀性感身材，曼妙曲线美不胜收 https://i.meizitu.net/thumbs/2019/01/167433_04e01_236.jpg\n",
      "头条女神韩秀冉大秀性感身材，曼妙曲线美不胜收.jpg已下载\n",
      "绝色美女张雨萌性感写真 黑丝透视装春光无限 https://i.meizitu.net/thumbs/2019/01/171084_25a09_236.jpg\n",
      "绝色美女张雨萌性感写真 黑丝透视装春光无限.jpg已下载\n",
      "女神芝芝Booty内衣魅惑，暗香涌动的浑圆翘臀美妙绝伦 https://i.meizitu.net/thumbs/2019/01/167389_04d20_236.jpg\n",
      "女神芝芝Booty内衣魅惑，暗香涌动的浑圆翘臀美妙绝伦.jpg已下载\n",
      "各种走光各种露，2018尤蜜荟情趣艺术图片集锦 https://i.meizitu.net/thumbs/2019/01/167343_04c14_236.jpg\n",
      "各种走光各种露，2018尤蜜荟情趣艺术图片集锦.jpg已下载\n",
      "国模林美惠子人体写真 乳贴开裆尺度堪比岛国AV女优 https://i.meizitu.net/thumbs/2019/01/166082_31a29_236.jpg\n",
      "国模林美惠子人体写真 乳贴开裆尺度堪比岛国AV女优.jpg已下载\n",
      "甜美可人不失性感 可爱少女小沫琳女仆装上演制服诱惑 https://i.meizitu.net/thumbs/2019/01/170695_23a23_236.jpg\n",
      "甜美可人不失性感 可爱少女小沫琳女仆装上演制服诱惑.jpg已下载\n",
      "极内涵！性感美女露露小喵私房人体艺术写真豪露嫩乳 https://i.meizitu.net/thumbs/2019/01/166948_02e41_236.jpg\n",
      "极内涵！性感美女露露小喵私房人体艺术写真豪露嫩乳.jpg已下载\n",
      "撅臀姿势成标配 尤物玛鲁娜超大肥臀令人欲火攻心 https://i.meizitu.net/thumbs/2019/01/165419_28k28_236.jpg\n",
      "撅臀姿势成标配 尤物玛鲁娜超大肥臀令人欲火攻心.jpg已下载\n",
      "腿真白！绝色大美妞黄楽然穿上睡衣引诱你 https://i.meizitu.net/thumbs/2019/01/166349_31f37_236.jpg\n",
      "腿真白！绝色大美妞黄楽然穿上睡衣引诱你.jpg已下载\n",
      "会被掏空！美腿女秘书Miko酱满足你对黑丝的幻想 https://i.meizitu.net/thumbs/2019/01/165493_28m08_236.jpg\n",
      "会被掏空！美腿女秘书Miko酱满足你对黑丝的幻想.jpg已下载\n",
      "快上车，黑丝熟女艾小青满足你的车震幻想 https://i.meizitu.net/thumbs/2019/01/166864_02c26_236.jpg\n",
      "快上车，黑丝熟女艾小青满足你的车震幻想.jpg已下载\n",
      "尤果网美女写真精选合集 全是尤物个个性感 https://i.meizitu.net/thumbs/2019/01/170406_20a17_236.jpg\n",
      "尤果网美女写真精选合集 全是尤物个个性感.jpg已下载\n",
      "人间尤物！秀人美女SOLO尹菲丝袜人体艺术图片 https://i.meizitu.net/thumbs/2019/01/165651_29c01_236.jpg\n",
      "人间尤物！秀人美女SOLO尹菲丝袜人体艺术图片.jpg已下载\n",
      "黑丝旗袍身段尽显 秀人女神杨晨晨浑身是宝看点十足 https://i.meizitu.net/thumbs/2019/01/166558_01e40_236.jpg\n",
      "黑丝旗袍身段尽显 秀人女神杨晨晨浑身是宝看点十足.jpg已下载\n",
      "长相甜美身材傲人 风骚尤物小尤奈童颜巨乳性感爆棚 https://i.meizitu.net/thumbs/2019/01/166465_01c08_236.jpg\n",
      "长相甜美身材傲人 风骚尤物小尤奈童颜巨乳性感爆棚.jpg已下载\n",
      "清纯萌妹徐微微户外露出写真，浑圆的美臀暴露欲望 https://i.meizitu.net/thumbs/2019/01/166819_02b06_236.jpg\n",
      "清纯萌妹徐微微户外露出写真，浑圆的美臀暴露欲望.jpg已下载\n",
      "美丽的姑娘修长的腿 蓝色妖姬小热巴酥胸美腿娇羞迷人 https://i.meizitu.net/thumbs/2019/01/167247_04a02_236.jpg\n",
      "美丽的姑娘修长的腿 蓝色妖姬小热巴酥胸美腿娇羞迷人.jpg已下载\n",
      "等你来调教 情趣女王尤妮丝SM制服诱惑火花四射 https://i.meizitu.net/thumbs/2019/01/165552_29a39_236.jpg\n",
      "等你来调教 情趣女王尤妮丝SM制服诱惑火花四射.jpg已下载\n",
      "巨乳模特Luffy菲菲性感人体艺术图片 情趣狂野征服宅男 https://i.meizitu.net/thumbs/2019/01/164412_24a41_236.jpg\n",
      "巨乳模特Luffy菲菲性感人体艺术图片 情趣狂野征服宅男.jpg已下载\n",
      "姿势真诱人，绝美娇妻冯木木白色蕾丝内衣挤出爆乳 https://i.meizitu.net/thumbs/2019/01/165072_28d19_236.jpg\n",
      "姿势真诱人，绝美娇妻冯木木白色蕾丝内衣挤出爆乳.jpg已下载\n",
      "============================\n",
      "开始下载第8页\n",
      "有胸有腿有内涵 绝色国模杨晨晨前凸后翘美妙迷人 https://i.meizitu.net/thumbs/2019/01/166512_01d36_236.jpg\n",
      "有胸有腿有内涵 绝色国模杨晨晨前凸后翘美妙迷人.jpg已下载\n",
      "臀控福利图片，比基尼美女芝芝Booty酥胸颤颤精彩十足 https://i.meizitu.net/thumbs/2019/01/164914_28a03_236.jpg\n",
      "臀控福利图片，比基尼美女芝芝Booty酥胸颤颤精彩十足.jpg已下载\n",
      "知性丽人miya米雅初具熟女风情 轻轻一撩惊艳万分 https://i.meizitu.net/thumbs/2019/01/169451_13d32_236.jpg\n",
      "知性丽人miya米雅初具熟女风情 轻轻一撩惊艳万分.jpg已下载\n",
      "御姐女神陈思琪性感套图，冷艳气质动人心魄 https://i.meizitu.net/thumbs/2019/01/165703_29d12_236.jpg\n",
      "御姐女神陈思琪性感套图，冷艳气质动人心魄.jpg已下载\n",
      "性感荷尔蒙爆棚 宅男女神杨晨晨职业套装黑色诱惑 https://i.meizitu.net/thumbs/2019/01/169209_12c63_236.jpg\n",
      "性感荷尔蒙爆棚 宅男女神杨晨晨职业套装黑色诱惑.jpg已下载\n",
      "趴街姿势再升级 人体模特艾小青户外露出创意写真 https://i.meizitu.net/thumbs/2019/01/166413_01b45_236.jpg\n",
      "趴街姿势再升级 人体模特艾小青户外露出创意写真.jpg已下载\n",
      "暴力御姐变女奴 女神Egg尤妮丝等你来调教 https://i.meizitu.net/thumbs/2019/01/165998_30d11_236.jpg\n",
      "暴力御姐变女奴 女神Egg尤妮丝等你来调教.jpg已下载\n",
      "丝袜美腿控福利，韵味美人小热巴旗袍黑丝美不胜收 https://i.meizitu.net/thumbs/2019/01/166174_31c03_236.jpg\n",
      "丝袜美腿控福利，韵味美人小热巴旗袍黑丝美不胜收.jpg已下载\n",
      "勒得太紧身材毕露！宅男杀手刘钰儿火辣曲线看点十足 https://i.meizitu.net/thumbs/2019/01/165947_30c18_236.jpg\n",
      "勒得太紧身材毕露！宅男杀手刘钰儿火辣曲线看点十足.jpg已下载\n",
      "深航美女空姐九尾Ivy丝袜玉足性感极致 https://i.meizitu.net/thumbs/2019/01/164690_26b06_236.jpg\n",
      "深航美女空姐九尾Ivy丝袜玉足性感极致.jpg已下载\n",
      "性感有内涵 风骚少妇妲己Toxic齐B连衣裙上演脱衣诱惑 https://i.meizitu.net/thumbs/2019/01/168373_07h20_236.jpg\n",
      "性感有内涵 风骚少妇妲己Toxic齐B连衣裙上演脱衣诱惑.jpg已下载\n",
      "性感美女卓娅祺旗袍黑丝秀 身体曲线美艳动人 https://i.meizitu.net/thumbs/2019/01/164784_27a02_236.jpg\n",
      "性感美女卓娅祺旗袍黑丝秀 身体曲线美艳动人.jpg已下载\n",
      "冰山美人谭睿琪外表冷艳内心狂野 惹火的身材充满欲望 https://i.meizitu.net/thumbs/2019/01/168085_07b25_236.jpg\n",
      "冰山美人谭睿琪外表冷艳内心狂野 惹火的身材充满欲望.jpg已下载\n",
      "丰韵御姐黄楽然妩媚入骨 浪漫厨房演绎情欲色香味 https://i.meizitu.net/thumbs/2019/01/166909_02d06_236.jpg\n",
      "丰韵御姐黄楽然妩媚入骨 浪漫厨房演绎情欲色香味.jpg已下载\n",
      "国模黄楽然性感内衣现激凸 柔情韵味致命诱人 https://i.meizitu.net/thumbs/2019/01/167698_05f03_236.jpg\n",
      "国模黄楽然性感内衣现激凸 柔情韵味致命诱人.jpg已下载\n",
      "老司机快上车 机车女郎林美惠子全裸胴体一丝不挂 https://i.meizitu.net/thumbs/2019/01/167614_05d14_236.jpg\n",
      "老司机快上车 机车女郎林美惠子全裸胴体一丝不挂.jpg已下载\n",
      "性感美女Egg尤妮丝无圣光写真图片 爆乳肥臀让人吃不消 https://i.meizitu.net/thumbs/2019/01/165897_30b08_236.jpg\n",
      "性感美女Egg尤妮丝无圣光写真图片 爆乳肥臀让人吃不消.jpg已下载\n",
      "小露香肩香艳性感 颜值女神淼淼萌萌哒约你泡温泉 https://i.meizitu.net/thumbs/2019/01/165227_28g34_236.jpg\n",
      "小露香肩香艳性感 颜值女神淼淼萌萌哒约你泡温泉.jpg已下载\n",
      "性感美女刘钰儿情趣睡衣私房福利 爆乳图片诱惑十足 https://i.meizitu.net/thumbs/2019/01/164510_25a23_236.jpg\n",
      "性感美女刘钰儿情趣睡衣私房福利 爆乳图片诱惑十足.jpg已下载\n",
      "深沟大奶白嫩饱满 轻熟女毛COCO身材丰满不输乳神张优 https://i.meizitu.net/thumbs/2019/01/165161_28f18_236.jpg\n",
      "深沟大奶白嫩饱满 轻熟女毛COCO身材丰满不输乳神张优.jpg已下载\n",
      "气质脱俗丰满迷人 国模女神恩一吊带睡衣裙别有一番韵味 https://i.meizitu.net/thumbs/2019/01/165115_28e29_236.jpg\n",
      "气质脱俗丰满迷人 国模女神恩一吊带睡衣裙别有一番韵味.jpg已下载\n",
      "珍藏级无圣光福利套图 MISSLEG瑶瑶丝袜美腿人体艺术写真 https://i.meizitu.net/thumbs/2019/01/164603_25c10_236.jpg\n",
      "珍藏级无圣光福利套图 MISSLEG瑶瑶丝袜美腿人体艺术写真.jpg已下载\n",
      "无内肉丝一线裆！美女嫩模萌汉药私房福利耐人寻”味” https://i.meizitu.net/thumbs/2019/01/166671_01g23_236.jpg\n",
      "无内肉丝一线裆！美女嫩模萌汉药私房福利耐人寻”味”.jpg已下载\n",
      "人美身材棒！极品美女考拉koala胸大如球非常性感 https://i.meizitu.net/thumbs/2019/01/163506_19b17_236.jpg\n",
      "人美身材棒！极品美女考拉koala胸大如球非常性感.jpg已下载\n",
      "============================\n",
      "开始下载第9页\n",
      "据说是武大校花 小柳岩妲己Toxic气质出众风情万种 https://i.meizitu.net/thumbs/2019/01/164366_24c40_236.jpg\n",
      "据说是武大校花 小柳岩妲己Toxic气质出众风情万种.jpg已下载\n",
      "可爱眼镜娘Miko酱酒店开房激情阵阵 姿势撩人让人想入非非 https://i.meizitu.net/thumbs/2019/01/164996_28c14_236.jpg\n",
      "可爱眼镜娘Miko酱酒店开房激情阵阵 姿势撩人让人想入非非.jpg已下载\n",
      "只穿丝袜不穿内裤，美腿尤物周于希短裙露底叫人心怀遐想 https://i.meizitu.net/thumbs/2019/01/164314_23c32_236.jpg\n",
      "只穿丝袜不穿内裤，美腿尤物周于希短裙露底叫人心怀遐想.jpg已下载\n",
      "尤物扎堆，标配丰乳肥臀 花漾写真年度精彩瞬间合集（下） https://i.meizitu.net/thumbs/2018/12/163868_21c09_236.jpg\n",
      "尤物扎堆，标配丰乳肥臀 花漾写真年度精彩瞬间合集（下）.jpg已下载\n",
      "新姿势已解锁 短发美女冯木木柔软的身躯画面太羞羞 https://i.meizitu.net/thumbs/2018/12/164555_25b15_236.jpg\n",
      "新姿势已解锁 短发美女冯木木柔软的身躯画面太羞羞.jpg已下载\n",
      "这舌头超带劲！开放小姐姐艾小青浴室调情骚气冲天 https://i.meizitu.net/thumbs/2018/12/164955_28b15_236.jpg\n",
      "这舌头超带劲！开放小姐姐艾小青浴室调情骚气冲天.jpg已下载\n",
      "腿控丝控速来舔屏 满城尽是黑丝腿，全程高能福利 https://i.meizitu.net/thumbs/2018/12/164646_26a05_236.jpg\n",
      "腿控丝控速来舔屏 满城尽是黑丝腿，全程高能福利.jpg已下载\n",
      "丰满少妇萌汉药baby情欲乍泄 傲人双峰遮不住 https://i.meizitu.net/thumbs/2018/12/164834_27b05_236.jpg\n",
      "丰满少妇萌汉药baby情欲乍泄 傲人双峰遮不住.jpg已下载\n",
      "红色内衣娇艳火辣 性感美女刘钰儿销魂大奶无比惹火 https://i.meizitu.net/thumbs/2018/12/164461_24b12_236.jpg\n",
      "红色内衣娇艳火辣 性感美女刘钰儿销魂大奶无比惹火.jpg已下载\n",
      "重磅福利！女神SOLO尹菲全裸泡温泉，香艳胴体一览无余 https://i.meizitu.net/thumbs/2018/12/164871_27c06_236.jpg\n",
      "重磅福利！女神SOLO尹菲全裸泡温泉，香艳胴体一览无余.jpg已下载\n",
      "这臀这腿一年不够玩 性感美女芝芝Booty秘书OL装开裆诱惑 https://i.meizitu.net/thumbs/2018/12/163964_21e10_236.jpg\n",
      "这臀这腿一年不够玩 性感美女芝芝Booty秘书OL装开裆诱惑.jpg已下载\n",
      "星颜社美女Selina思思蕾丝内衣图 三点可见疑似走光 https://i.meizitu.net/thumbs/2018/12/163777_21a19_236.jpg\n",
      "星颜社美女Selina思思蕾丝内衣图 三点可见疑似走光.jpg已下载\n",
      "下体真空还张开腿 极品小骚黄楽然手持纸巾等你来 https://i.meizitu.net/thumbs/2018/12/165277_28h14_236.jpg\n",
      "下体真空还张开腿 极品小骚黄楽然手持纸巾等你来.jpg已下载\n",
      "欲望少妇楚恬Olivia浴缸湿身搔首弄姿 全裸上阵无视尺度 https://i.meizitu.net/thumbs/2018/12/164210_23a27_236.jpg\n",
      "欲望少妇楚恬Olivia浴缸湿身搔首弄姿 全裸上阵无视尺度.jpg已下载\n",
      "白嫩豪乳樱桃小嘴 性感美女金雨佳丰满圆润惹人爱 https://i.meizitu.net/thumbs/2018/12/163463_19a04_236.jpg\n",
      "白嫩豪乳樱桃小嘴 性感美女金雨佳丰满圆润惹人爱.jpg已下载\n",
      "无内丝袜玩露底 花漾尤物王雨纯大尺度人体艺术 https://i.meizitu.net/thumbs/2018/12/164117_22b06_236.jpg\n",
      "无内丝袜玩露底 花漾尤物王雨纯大尺度人体艺术.jpg已下载\n",
      "诱人的女体，性感美女黄楽然雪乳红唇妩媚撩人 https://i.meizitu.net/thumbs/2018/12/164260_23b20_236.jpg\n",
      "诱人的女体，性感美女黄楽然雪乳红唇妩媚撩人.jpg已下载\n",
      "漂亮少妇心妍小公主饥渴不安分 床上扭动表情太销魂 https://i.meizitu.net/thumbs/2018/12/163683_20c28_236.jpg\n",
      "漂亮少妇心妍小公主饥渴不安分 床上扭动表情太销魂.jpg已下载\n",
      "轻熟少妇余馨妍无内丝袜艺术写真惹人上火 https://i.meizitu.net/thumbs/2018/12/164744_26c12_236.jpg\n",
      "轻熟少妇余馨妍无内丝袜艺术写真惹人上火.jpg已下载\n",
      "小小年纪胸这么大 软萌妹子美绪私房图片惊现乳牛身材 https://i.meizitu.net/thumbs/2018/12/162495_12e12_236.jpg\n",
      "小小年纪胸这么大 软萌妹子美绪私房图片惊现乳牛身材.jpg已下载\n",
      "极品美女唐琪儿性感艺术写真上下失守全程走光 https://i.meizitu.net/thumbs/2018/12/164073_22a02_236.jpg\n",
      "极品美女唐琪儿性感艺术写真上下失守全程走光.jpg已下载\n",
      "绝色国模小热巴床上等你 绿色内衣引人犯罪 https://i.meizitu.net/thumbs/2018/12/164161_22c10_236.jpg\n"
     ]
    },
    {
     "name": "stdout",
     "output_type": "stream",
     "text": [
      "绝色国模小热巴床上等你 绿色内衣引人犯罪.jpg已下载\n",
      "高颜值美女娜露Selena艺术写真 泳池COSPLAY巨乳超大 https://i.meizitu.net/thumbs/2018/12/163923_21d05_236.jpg\n",
      "高颜值美女娜露Selena艺术写真 泳池COSPLAY巨乳超大.jpg已下载\n",
      "让你一次过足瘾！花漾写真年度精彩瞬间合集（上） https://i.meizitu.net/thumbs/2018/12/163817_21b46_236.jpg\n",
      "让你一次过足瘾！花漾写真年度精彩瞬间合集（上）.jpg已下载\n",
      "============================\n",
      "开始下载第10页\n"
     ]
    }
   ],
   "source": [
    "from selenium import webdriver\n",
    "from time import sleep\n",
    "driver = webdriver.Chrome()\n",
    "url = 'https://www.mzitu.com/xinggan/page/{}/'\n",
    "path = \"//img[@class='lazy']\"\n",
    "BASE_DIR = '妹子图'\n",
    "if not os.path.exists(BASE_DIR):\n",
    "    os.mkdir(BASE_DIR)\n",
    "a = 1\n",
    "refer = 'https://www.mzitu.com/xinggan/'\n",
    "while a<10:\n",
    "    driver.get(refer)\n",
    "    pic = driver.find_elements_by_xpath(path)\n",
    "    header = {'user-agent':'Mozilla/5.0 (Windows NT 10.0; Win64; x64) AppleWebKit/537.36 (KHTML, like Gecko) Chrome/73.0.3683.86 Safari/537.36','referer':refer}\n",
    "    refer = url.format(a+1)\n",
    "    page = str(a)\n",
    "    if not os.path.exists(BASE_DIR+\"/\"+page):\n",
    "        os.mkdir(BASE_DIR+\"/\"+page)\n",
    "    for i in pic:\n",
    "        src = i.get_attribute('data-original')\n",
    "        possfix = src[-4:]\n",
    "        name = i.get_attribute('alt')\n",
    "        print(name,src)\n",
    "        con = requests.get(src,headers = header)\n",
    "        if con.status_code == 200:\n",
    "            with open(BASE_DIR+\"/\"+page+\"/\"+name+possfix,'wb') as f:\n",
    "                f.write(con.content)\n",
    "            print('%s已下载'%(name+possfix))\n",
    "        else:\n",
    "            sleep(0.05)\n",
    "    print(\"============================\")\n",
    "    a += 1\n",
    "    print(\"开始下载第%d页\"%a)"
   ]
  },
  {
   "cell_type": "code",
   "execution_count": 42,
   "metadata": {},
   "outputs": [
    {
     "name": "stdout",
     "output_type": "stream",
     "text": [
      "请输入要下载几页: 1\n"
     ]
    },
    {
     "ename": "ConnectionError",
     "evalue": "('Connection aborted.', ConnectionResetError(10054, '远程主机强迫关闭了一个现有的连接。', None, 10054, None))",
     "output_type": "error",
     "traceback": [
      "\u001b[1;31m---------------------------------------------------------------------------\u001b[0m",
      "\u001b[1;31mConnectionResetError\u001b[0m                      Traceback (most recent call last)",
      "\u001b[1;32mc:\\users\\zsh\\appdata\\local\\programs\\python\\python36\\lib\\site-packages\\urllib3\\connectionpool.py\u001b[0m in \u001b[0;36murlopen\u001b[1;34m(self, method, url, body, headers, retries, redirect, assert_same_host, timeout, pool_timeout, release_conn, chunked, body_pos, **response_kw)\u001b[0m\n\u001b[0;32m    599\u001b[0m                                                   \u001b[0mbody\u001b[0m\u001b[1;33m=\u001b[0m\u001b[0mbody\u001b[0m\u001b[1;33m,\u001b[0m \u001b[0mheaders\u001b[0m\u001b[1;33m=\u001b[0m\u001b[0mheaders\u001b[0m\u001b[1;33m,\u001b[0m\u001b[1;33m\u001b[0m\u001b[1;33m\u001b[0m\u001b[0m\n\u001b[1;32m--> 600\u001b[1;33m                                                   chunked=chunked)\n\u001b[0m\u001b[0;32m    601\u001b[0m \u001b[1;33m\u001b[0m\u001b[0m\n",
      "\u001b[1;32mc:\\users\\zsh\\appdata\\local\\programs\\python\\python36\\lib\\site-packages\\urllib3\\connectionpool.py\u001b[0m in \u001b[0;36m_make_request\u001b[1;34m(self, conn, method, url, timeout, chunked, **httplib_request_kw)\u001b[0m\n\u001b[0;32m    383\u001b[0m                     \u001b[1;31m# otherwise it looks like a programming error was the cause.\u001b[0m\u001b[1;33m\u001b[0m\u001b[1;33m\u001b[0m\u001b[1;33m\u001b[0m\u001b[0m\n\u001b[1;32m--> 384\u001b[1;33m                     \u001b[0msix\u001b[0m\u001b[1;33m.\u001b[0m\u001b[0mraise_from\u001b[0m\u001b[1;33m(\u001b[0m\u001b[0me\u001b[0m\u001b[1;33m,\u001b[0m \u001b[1;32mNone\u001b[0m\u001b[1;33m)\u001b[0m\u001b[1;33m\u001b[0m\u001b[1;33m\u001b[0m\u001b[0m\n\u001b[0m\u001b[0;32m    385\u001b[0m         \u001b[1;32mexcept\u001b[0m \u001b[1;33m(\u001b[0m\u001b[0mSocketTimeout\u001b[0m\u001b[1;33m,\u001b[0m \u001b[0mBaseSSLError\u001b[0m\u001b[1;33m,\u001b[0m \u001b[0mSocketError\u001b[0m\u001b[1;33m)\u001b[0m \u001b[1;32mas\u001b[0m \u001b[0me\u001b[0m\u001b[1;33m:\u001b[0m\u001b[1;33m\u001b[0m\u001b[1;33m\u001b[0m\u001b[0m\n",
      "\u001b[1;32mc:\\users\\zsh\\appdata\\local\\programs\\python\\python36\\lib\\site-packages\\urllib3\\packages\\six.py\u001b[0m in \u001b[0;36mraise_from\u001b[1;34m(value, from_value)\u001b[0m\n",
      "\u001b[1;32mc:\\users\\zsh\\appdata\\local\\programs\\python\\python36\\lib\\site-packages\\urllib3\\connectionpool.py\u001b[0m in \u001b[0;36m_make_request\u001b[1;34m(self, conn, method, url, timeout, chunked, **httplib_request_kw)\u001b[0m\n\u001b[0;32m    379\u001b[0m                 \u001b[1;32mtry\u001b[0m\u001b[1;33m:\u001b[0m\u001b[1;33m\u001b[0m\u001b[1;33m\u001b[0m\u001b[0m\n\u001b[1;32m--> 380\u001b[1;33m                     \u001b[0mhttplib_response\u001b[0m \u001b[1;33m=\u001b[0m \u001b[0mconn\u001b[0m\u001b[1;33m.\u001b[0m\u001b[0mgetresponse\u001b[0m\u001b[1;33m(\u001b[0m\u001b[1;33m)\u001b[0m\u001b[1;33m\u001b[0m\u001b[1;33m\u001b[0m\u001b[0m\n\u001b[0m\u001b[0;32m    381\u001b[0m                 \u001b[1;32mexcept\u001b[0m \u001b[0mException\u001b[0m \u001b[1;32mas\u001b[0m \u001b[0me\u001b[0m\u001b[1;33m:\u001b[0m\u001b[1;33m\u001b[0m\u001b[1;33m\u001b[0m\u001b[0m\n",
      "\u001b[1;32mc:\\users\\zsh\\appdata\\local\\programs\\python\\python36\\lib\\http\\client.py\u001b[0m in \u001b[0;36mgetresponse\u001b[1;34m(self)\u001b[0m\n\u001b[0;32m   1330\u001b[0m             \u001b[1;32mtry\u001b[0m\u001b[1;33m:\u001b[0m\u001b[1;33m\u001b[0m\u001b[1;33m\u001b[0m\u001b[0m\n\u001b[1;32m-> 1331\u001b[1;33m                 \u001b[0mresponse\u001b[0m\u001b[1;33m.\u001b[0m\u001b[0mbegin\u001b[0m\u001b[1;33m(\u001b[0m\u001b[1;33m)\u001b[0m\u001b[1;33m\u001b[0m\u001b[1;33m\u001b[0m\u001b[0m\n\u001b[0m\u001b[0;32m   1332\u001b[0m             \u001b[1;32mexcept\u001b[0m \u001b[0mConnectionError\u001b[0m\u001b[1;33m:\u001b[0m\u001b[1;33m\u001b[0m\u001b[1;33m\u001b[0m\u001b[0m\n",
      "\u001b[1;32mc:\\users\\zsh\\appdata\\local\\programs\\python\\python36\\lib\\http\\client.py\u001b[0m in \u001b[0;36mbegin\u001b[1;34m(self)\u001b[0m\n\u001b[0;32m    296\u001b[0m         \u001b[1;32mwhile\u001b[0m \u001b[1;32mTrue\u001b[0m\u001b[1;33m:\u001b[0m\u001b[1;33m\u001b[0m\u001b[1;33m\u001b[0m\u001b[0m\n\u001b[1;32m--> 297\u001b[1;33m             \u001b[0mversion\u001b[0m\u001b[1;33m,\u001b[0m \u001b[0mstatus\u001b[0m\u001b[1;33m,\u001b[0m \u001b[0mreason\u001b[0m \u001b[1;33m=\u001b[0m \u001b[0mself\u001b[0m\u001b[1;33m.\u001b[0m\u001b[0m_read_status\u001b[0m\u001b[1;33m(\u001b[0m\u001b[1;33m)\u001b[0m\u001b[1;33m\u001b[0m\u001b[1;33m\u001b[0m\u001b[0m\n\u001b[0m\u001b[0;32m    298\u001b[0m             \u001b[1;32mif\u001b[0m \u001b[0mstatus\u001b[0m \u001b[1;33m!=\u001b[0m \u001b[0mCONTINUE\u001b[0m\u001b[1;33m:\u001b[0m\u001b[1;33m\u001b[0m\u001b[1;33m\u001b[0m\u001b[0m\n",
      "\u001b[1;32mc:\\users\\zsh\\appdata\\local\\programs\\python\\python36\\lib\\http\\client.py\u001b[0m in \u001b[0;36m_read_status\u001b[1;34m(self)\u001b[0m\n\u001b[0;32m    257\u001b[0m     \u001b[1;32mdef\u001b[0m \u001b[0m_read_status\u001b[0m\u001b[1;33m(\u001b[0m\u001b[0mself\u001b[0m\u001b[1;33m)\u001b[0m\u001b[1;33m:\u001b[0m\u001b[1;33m\u001b[0m\u001b[1;33m\u001b[0m\u001b[0m\n\u001b[1;32m--> 258\u001b[1;33m         \u001b[0mline\u001b[0m \u001b[1;33m=\u001b[0m \u001b[0mstr\u001b[0m\u001b[1;33m(\u001b[0m\u001b[0mself\u001b[0m\u001b[1;33m.\u001b[0m\u001b[0mfp\u001b[0m\u001b[1;33m.\u001b[0m\u001b[0mreadline\u001b[0m\u001b[1;33m(\u001b[0m\u001b[0m_MAXLINE\u001b[0m \u001b[1;33m+\u001b[0m \u001b[1;36m1\u001b[0m\u001b[1;33m)\u001b[0m\u001b[1;33m,\u001b[0m \u001b[1;34m\"iso-8859-1\"\u001b[0m\u001b[1;33m)\u001b[0m\u001b[1;33m\u001b[0m\u001b[1;33m\u001b[0m\u001b[0m\n\u001b[0m\u001b[0;32m    259\u001b[0m         \u001b[1;32mif\u001b[0m \u001b[0mlen\u001b[0m\u001b[1;33m(\u001b[0m\u001b[0mline\u001b[0m\u001b[1;33m)\u001b[0m \u001b[1;33m>\u001b[0m \u001b[0m_MAXLINE\u001b[0m\u001b[1;33m:\u001b[0m\u001b[1;33m\u001b[0m\u001b[1;33m\u001b[0m\u001b[0m\n",
      "\u001b[1;32mc:\\users\\zsh\\appdata\\local\\programs\\python\\python36\\lib\\socket.py\u001b[0m in \u001b[0;36mreadinto\u001b[1;34m(self, b)\u001b[0m\n\u001b[0;32m    585\u001b[0m             \u001b[1;32mtry\u001b[0m\u001b[1;33m:\u001b[0m\u001b[1;33m\u001b[0m\u001b[1;33m\u001b[0m\u001b[0m\n\u001b[1;32m--> 586\u001b[1;33m                 \u001b[1;32mreturn\u001b[0m \u001b[0mself\u001b[0m\u001b[1;33m.\u001b[0m\u001b[0m_sock\u001b[0m\u001b[1;33m.\u001b[0m\u001b[0mrecv_into\u001b[0m\u001b[1;33m(\u001b[0m\u001b[0mb\u001b[0m\u001b[1;33m)\u001b[0m\u001b[1;33m\u001b[0m\u001b[1;33m\u001b[0m\u001b[0m\n\u001b[0m\u001b[0;32m    587\u001b[0m             \u001b[1;32mexcept\u001b[0m \u001b[0mtimeout\u001b[0m\u001b[1;33m:\u001b[0m\u001b[1;33m\u001b[0m\u001b[1;33m\u001b[0m\u001b[0m\n",
      "\u001b[1;31mConnectionResetError\u001b[0m: [WinError 10054] 远程主机强迫关闭了一个现有的连接。",
      "\nDuring handling of the above exception, another exception occurred:\n",
      "\u001b[1;31mProtocolError\u001b[0m                             Traceback (most recent call last)",
      "\u001b[1;32mc:\\users\\zsh\\appdata\\local\\programs\\python\\python36\\lib\\site-packages\\requests\\adapters.py\u001b[0m in \u001b[0;36msend\u001b[1;34m(self, request, stream, timeout, verify, cert, proxies)\u001b[0m\n\u001b[0;32m    448\u001b[0m                     \u001b[0mretries\u001b[0m\u001b[1;33m=\u001b[0m\u001b[0mself\u001b[0m\u001b[1;33m.\u001b[0m\u001b[0mmax_retries\u001b[0m\u001b[1;33m,\u001b[0m\u001b[1;33m\u001b[0m\u001b[1;33m\u001b[0m\u001b[0m\n\u001b[1;32m--> 449\u001b[1;33m                     \u001b[0mtimeout\u001b[0m\u001b[1;33m=\u001b[0m\u001b[0mtimeout\u001b[0m\u001b[1;33m\u001b[0m\u001b[1;33m\u001b[0m\u001b[0m\n\u001b[0m\u001b[0;32m    450\u001b[0m                 )\n",
      "\u001b[1;32mc:\\users\\zsh\\appdata\\local\\programs\\python\\python36\\lib\\site-packages\\urllib3\\connectionpool.py\u001b[0m in \u001b[0;36murlopen\u001b[1;34m(self, method, url, body, headers, retries, redirect, assert_same_host, timeout, pool_timeout, release_conn, chunked, body_pos, **response_kw)\u001b[0m\n\u001b[0;32m    637\u001b[0m             retries = retries.increment(method, url, error=e, _pool=self,\n\u001b[1;32m--> 638\u001b[1;33m                                         _stacktrace=sys.exc_info()[2])\n\u001b[0m\u001b[0;32m    639\u001b[0m             \u001b[0mretries\u001b[0m\u001b[1;33m.\u001b[0m\u001b[0msleep\u001b[0m\u001b[1;33m(\u001b[0m\u001b[1;33m)\u001b[0m\u001b[1;33m\u001b[0m\u001b[1;33m\u001b[0m\u001b[0m\n",
      "\u001b[1;32mc:\\users\\zsh\\appdata\\local\\programs\\python\\python36\\lib\\site-packages\\urllib3\\util\\retry.py\u001b[0m in \u001b[0;36mincrement\u001b[1;34m(self, method, url, response, error, _pool, _stacktrace)\u001b[0m\n\u001b[0;32m    366\u001b[0m             \u001b[1;32mif\u001b[0m \u001b[0mread\u001b[0m \u001b[1;32mis\u001b[0m \u001b[1;32mFalse\u001b[0m \u001b[1;32mor\u001b[0m \u001b[1;32mnot\u001b[0m \u001b[0mself\u001b[0m\u001b[1;33m.\u001b[0m\u001b[0m_is_method_retryable\u001b[0m\u001b[1;33m(\u001b[0m\u001b[0mmethod\u001b[0m\u001b[1;33m)\u001b[0m\u001b[1;33m:\u001b[0m\u001b[1;33m\u001b[0m\u001b[1;33m\u001b[0m\u001b[0m\n\u001b[1;32m--> 367\u001b[1;33m                 \u001b[1;32mraise\u001b[0m \u001b[0msix\u001b[0m\u001b[1;33m.\u001b[0m\u001b[0mreraise\u001b[0m\u001b[1;33m(\u001b[0m\u001b[0mtype\u001b[0m\u001b[1;33m(\u001b[0m\u001b[0merror\u001b[0m\u001b[1;33m)\u001b[0m\u001b[1;33m,\u001b[0m \u001b[0merror\u001b[0m\u001b[1;33m,\u001b[0m \u001b[0m_stacktrace\u001b[0m\u001b[1;33m)\u001b[0m\u001b[1;33m\u001b[0m\u001b[1;33m\u001b[0m\u001b[0m\n\u001b[0m\u001b[0;32m    368\u001b[0m             \u001b[1;32melif\u001b[0m \u001b[0mread\u001b[0m \u001b[1;32mis\u001b[0m \u001b[1;32mnot\u001b[0m \u001b[1;32mNone\u001b[0m\u001b[1;33m:\u001b[0m\u001b[1;33m\u001b[0m\u001b[1;33m\u001b[0m\u001b[0m\n",
      "\u001b[1;32mc:\\users\\zsh\\appdata\\local\\programs\\python\\python36\\lib\\site-packages\\urllib3\\packages\\six.py\u001b[0m in \u001b[0;36mreraise\u001b[1;34m(tp, value, tb)\u001b[0m\n\u001b[0;32m    684\u001b[0m         \u001b[1;32mif\u001b[0m \u001b[0mvalue\u001b[0m\u001b[1;33m.\u001b[0m\u001b[0m__traceback__\u001b[0m \u001b[1;32mis\u001b[0m \u001b[1;32mnot\u001b[0m \u001b[0mtb\u001b[0m\u001b[1;33m:\u001b[0m\u001b[1;33m\u001b[0m\u001b[1;33m\u001b[0m\u001b[0m\n\u001b[1;32m--> 685\u001b[1;33m             \u001b[1;32mraise\u001b[0m \u001b[0mvalue\u001b[0m\u001b[1;33m.\u001b[0m\u001b[0mwith_traceback\u001b[0m\u001b[1;33m(\u001b[0m\u001b[0mtb\u001b[0m\u001b[1;33m)\u001b[0m\u001b[1;33m\u001b[0m\u001b[1;33m\u001b[0m\u001b[0m\n\u001b[0m\u001b[0;32m    686\u001b[0m         \u001b[1;32mraise\u001b[0m \u001b[0mvalue\u001b[0m\u001b[1;33m\u001b[0m\u001b[1;33m\u001b[0m\u001b[0m\n",
      "\u001b[1;32mc:\\users\\zsh\\appdata\\local\\programs\\python\\python36\\lib\\site-packages\\urllib3\\connectionpool.py\u001b[0m in \u001b[0;36murlopen\u001b[1;34m(self, method, url, body, headers, retries, redirect, assert_same_host, timeout, pool_timeout, release_conn, chunked, body_pos, **response_kw)\u001b[0m\n\u001b[0;32m    599\u001b[0m                                                   \u001b[0mbody\u001b[0m\u001b[1;33m=\u001b[0m\u001b[0mbody\u001b[0m\u001b[1;33m,\u001b[0m \u001b[0mheaders\u001b[0m\u001b[1;33m=\u001b[0m\u001b[0mheaders\u001b[0m\u001b[1;33m,\u001b[0m\u001b[1;33m\u001b[0m\u001b[1;33m\u001b[0m\u001b[0m\n\u001b[1;32m--> 600\u001b[1;33m                                                   chunked=chunked)\n\u001b[0m\u001b[0;32m    601\u001b[0m \u001b[1;33m\u001b[0m\u001b[0m\n",
      "\u001b[1;32mc:\\users\\zsh\\appdata\\local\\programs\\python\\python36\\lib\\site-packages\\urllib3\\connectionpool.py\u001b[0m in \u001b[0;36m_make_request\u001b[1;34m(self, conn, method, url, timeout, chunked, **httplib_request_kw)\u001b[0m\n\u001b[0;32m    383\u001b[0m                     \u001b[1;31m# otherwise it looks like a programming error was the cause.\u001b[0m\u001b[1;33m\u001b[0m\u001b[1;33m\u001b[0m\u001b[1;33m\u001b[0m\u001b[0m\n\u001b[1;32m--> 384\u001b[1;33m                     \u001b[0msix\u001b[0m\u001b[1;33m.\u001b[0m\u001b[0mraise_from\u001b[0m\u001b[1;33m(\u001b[0m\u001b[0me\u001b[0m\u001b[1;33m,\u001b[0m \u001b[1;32mNone\u001b[0m\u001b[1;33m)\u001b[0m\u001b[1;33m\u001b[0m\u001b[1;33m\u001b[0m\u001b[0m\n\u001b[0m\u001b[0;32m    385\u001b[0m         \u001b[1;32mexcept\u001b[0m \u001b[1;33m(\u001b[0m\u001b[0mSocketTimeout\u001b[0m\u001b[1;33m,\u001b[0m \u001b[0mBaseSSLError\u001b[0m\u001b[1;33m,\u001b[0m \u001b[0mSocketError\u001b[0m\u001b[1;33m)\u001b[0m \u001b[1;32mas\u001b[0m \u001b[0me\u001b[0m\u001b[1;33m:\u001b[0m\u001b[1;33m\u001b[0m\u001b[1;33m\u001b[0m\u001b[0m\n",
      "\u001b[1;32mc:\\users\\zsh\\appdata\\local\\programs\\python\\python36\\lib\\site-packages\\urllib3\\packages\\six.py\u001b[0m in \u001b[0;36mraise_from\u001b[1;34m(value, from_value)\u001b[0m\n",
      "\u001b[1;32mc:\\users\\zsh\\appdata\\local\\programs\\python\\python36\\lib\\site-packages\\urllib3\\connectionpool.py\u001b[0m in \u001b[0;36m_make_request\u001b[1;34m(self, conn, method, url, timeout, chunked, **httplib_request_kw)\u001b[0m\n\u001b[0;32m    379\u001b[0m                 \u001b[1;32mtry\u001b[0m\u001b[1;33m:\u001b[0m\u001b[1;33m\u001b[0m\u001b[1;33m\u001b[0m\u001b[0m\n\u001b[1;32m--> 380\u001b[1;33m                     \u001b[0mhttplib_response\u001b[0m \u001b[1;33m=\u001b[0m \u001b[0mconn\u001b[0m\u001b[1;33m.\u001b[0m\u001b[0mgetresponse\u001b[0m\u001b[1;33m(\u001b[0m\u001b[1;33m)\u001b[0m\u001b[1;33m\u001b[0m\u001b[1;33m\u001b[0m\u001b[0m\n\u001b[0m\u001b[0;32m    381\u001b[0m                 \u001b[1;32mexcept\u001b[0m \u001b[0mException\u001b[0m \u001b[1;32mas\u001b[0m \u001b[0me\u001b[0m\u001b[1;33m:\u001b[0m\u001b[1;33m\u001b[0m\u001b[1;33m\u001b[0m\u001b[0m\n",
      "\u001b[1;32mc:\\users\\zsh\\appdata\\local\\programs\\python\\python36\\lib\\http\\client.py\u001b[0m in \u001b[0;36mgetresponse\u001b[1;34m(self)\u001b[0m\n\u001b[0;32m   1330\u001b[0m             \u001b[1;32mtry\u001b[0m\u001b[1;33m:\u001b[0m\u001b[1;33m\u001b[0m\u001b[1;33m\u001b[0m\u001b[0m\n\u001b[1;32m-> 1331\u001b[1;33m                 \u001b[0mresponse\u001b[0m\u001b[1;33m.\u001b[0m\u001b[0mbegin\u001b[0m\u001b[1;33m(\u001b[0m\u001b[1;33m)\u001b[0m\u001b[1;33m\u001b[0m\u001b[1;33m\u001b[0m\u001b[0m\n\u001b[0m\u001b[0;32m   1332\u001b[0m             \u001b[1;32mexcept\u001b[0m \u001b[0mConnectionError\u001b[0m\u001b[1;33m:\u001b[0m\u001b[1;33m\u001b[0m\u001b[1;33m\u001b[0m\u001b[0m\n",
      "\u001b[1;32mc:\\users\\zsh\\appdata\\local\\programs\\python\\python36\\lib\\http\\client.py\u001b[0m in \u001b[0;36mbegin\u001b[1;34m(self)\u001b[0m\n\u001b[0;32m    296\u001b[0m         \u001b[1;32mwhile\u001b[0m \u001b[1;32mTrue\u001b[0m\u001b[1;33m:\u001b[0m\u001b[1;33m\u001b[0m\u001b[1;33m\u001b[0m\u001b[0m\n\u001b[1;32m--> 297\u001b[1;33m             \u001b[0mversion\u001b[0m\u001b[1;33m,\u001b[0m \u001b[0mstatus\u001b[0m\u001b[1;33m,\u001b[0m \u001b[0mreason\u001b[0m \u001b[1;33m=\u001b[0m \u001b[0mself\u001b[0m\u001b[1;33m.\u001b[0m\u001b[0m_read_status\u001b[0m\u001b[1;33m(\u001b[0m\u001b[1;33m)\u001b[0m\u001b[1;33m\u001b[0m\u001b[1;33m\u001b[0m\u001b[0m\n\u001b[0m\u001b[0;32m    298\u001b[0m             \u001b[1;32mif\u001b[0m \u001b[0mstatus\u001b[0m \u001b[1;33m!=\u001b[0m \u001b[0mCONTINUE\u001b[0m\u001b[1;33m:\u001b[0m\u001b[1;33m\u001b[0m\u001b[1;33m\u001b[0m\u001b[0m\n",
      "\u001b[1;32mc:\\users\\zsh\\appdata\\local\\programs\\python\\python36\\lib\\http\\client.py\u001b[0m in \u001b[0;36m_read_status\u001b[1;34m(self)\u001b[0m\n\u001b[0;32m    257\u001b[0m     \u001b[1;32mdef\u001b[0m \u001b[0m_read_status\u001b[0m\u001b[1;33m(\u001b[0m\u001b[0mself\u001b[0m\u001b[1;33m)\u001b[0m\u001b[1;33m:\u001b[0m\u001b[1;33m\u001b[0m\u001b[1;33m\u001b[0m\u001b[0m\n\u001b[1;32m--> 258\u001b[1;33m         \u001b[0mline\u001b[0m \u001b[1;33m=\u001b[0m \u001b[0mstr\u001b[0m\u001b[1;33m(\u001b[0m\u001b[0mself\u001b[0m\u001b[1;33m.\u001b[0m\u001b[0mfp\u001b[0m\u001b[1;33m.\u001b[0m\u001b[0mreadline\u001b[0m\u001b[1;33m(\u001b[0m\u001b[0m_MAXLINE\u001b[0m \u001b[1;33m+\u001b[0m \u001b[1;36m1\u001b[0m\u001b[1;33m)\u001b[0m\u001b[1;33m,\u001b[0m \u001b[1;34m\"iso-8859-1\"\u001b[0m\u001b[1;33m)\u001b[0m\u001b[1;33m\u001b[0m\u001b[1;33m\u001b[0m\u001b[0m\n\u001b[0m\u001b[0;32m    259\u001b[0m         \u001b[1;32mif\u001b[0m \u001b[0mlen\u001b[0m\u001b[1;33m(\u001b[0m\u001b[0mline\u001b[0m\u001b[1;33m)\u001b[0m \u001b[1;33m>\u001b[0m \u001b[0m_MAXLINE\u001b[0m\u001b[1;33m:\u001b[0m\u001b[1;33m\u001b[0m\u001b[1;33m\u001b[0m\u001b[0m\n",
      "\u001b[1;32mc:\\users\\zsh\\appdata\\local\\programs\\python\\python36\\lib\\socket.py\u001b[0m in \u001b[0;36mreadinto\u001b[1;34m(self, b)\u001b[0m\n\u001b[0;32m    585\u001b[0m             \u001b[1;32mtry\u001b[0m\u001b[1;33m:\u001b[0m\u001b[1;33m\u001b[0m\u001b[1;33m\u001b[0m\u001b[0m\n\u001b[1;32m--> 586\u001b[1;33m                 \u001b[1;32mreturn\u001b[0m \u001b[0mself\u001b[0m\u001b[1;33m.\u001b[0m\u001b[0m_sock\u001b[0m\u001b[1;33m.\u001b[0m\u001b[0mrecv_into\u001b[0m\u001b[1;33m(\u001b[0m\u001b[0mb\u001b[0m\u001b[1;33m)\u001b[0m\u001b[1;33m\u001b[0m\u001b[1;33m\u001b[0m\u001b[0m\n\u001b[0m\u001b[0;32m    587\u001b[0m             \u001b[1;32mexcept\u001b[0m \u001b[0mtimeout\u001b[0m\u001b[1;33m:\u001b[0m\u001b[1;33m\u001b[0m\u001b[1;33m\u001b[0m\u001b[0m\n",
      "\u001b[1;31mProtocolError\u001b[0m: ('Connection aborted.', ConnectionResetError(10054, '远程主机强迫关闭了一个现有的连接。', None, 10054, None))",
      "\nDuring handling of the above exception, another exception occurred:\n",
      "\u001b[1;31mConnectionError\u001b[0m                           Traceback (most recent call last)",
      "\u001b[1;32m<ipython-input-42-8fbfb37e2f73>\u001b[0m in \u001b[0;36m<module>\u001b[1;34m\u001b[0m\n\u001b[0;32m     89\u001b[0m \u001b[1;33m\u001b[0m\u001b[0m\n\u001b[0;32m     90\u001b[0m \u001b[1;32mif\u001b[0m \u001b[0m__name__\u001b[0m \u001b[1;33m==\u001b[0m \u001b[1;34m'__main__'\u001b[0m\u001b[1;33m:\u001b[0m\u001b[1;33m\u001b[0m\u001b[1;33m\u001b[0m\u001b[0m\n\u001b[1;32m---> 91\u001b[1;33m     \u001b[0mmain\u001b[0m\u001b[1;33m(\u001b[0m\u001b[1;33m)\u001b[0m\u001b[1;33m\u001b[0m\u001b[1;33m\u001b[0m\u001b[0m\n\u001b[0m",
      "\u001b[1;32m<ipython-input-42-8fbfb37e2f73>\u001b[0m in \u001b[0;36mmain\u001b[1;34m()\u001b[0m\n\u001b[0;32m     77\u001b[0m     \u001b[1;32mfor\u001b[0m \u001b[0mi\u001b[0m \u001b[1;32min\u001b[0m \u001b[0mrange\u001b[0m\u001b[1;33m(\u001b[0m\u001b[0mnNum\u001b[0m\u001b[1;33m)\u001b[0m\u001b[1;33m:\u001b[0m\u001b[1;33m\u001b[0m\u001b[1;33m\u001b[0m\u001b[0m\n\u001b[0;32m     78\u001b[0m         \u001b[0murl\u001b[0m \u001b[1;33m=\u001b[0m \u001b[1;34m\"http://www.meizitu.com/a/more_%d.html\"\u001b[0m\u001b[1;33m%\u001b[0m\u001b[1;33m(\u001b[0m\u001b[0mi\u001b[0m\u001b[1;33m+\u001b[0m\u001b[1;36m1\u001b[0m\u001b[1;33m)\u001b[0m\u001b[1;33m\u001b[0m\u001b[1;33m\u001b[0m\u001b[0m\n\u001b[1;32m---> 79\u001b[1;33m         \u001b[0mhtml\u001b[0m \u001b[1;33m=\u001b[0m \u001b[0mrequests\u001b[0m\u001b[1;33m.\u001b[0m\u001b[0mget\u001b[0m\u001b[1;33m(\u001b[0m\u001b[0murl\u001b[0m\u001b[1;33m,\u001b[0m\u001b[0mheaders\u001b[0m\u001b[1;33m=\u001b[0m\u001b[0mgHeads\u001b[0m\u001b[1;33m)\u001b[0m\u001b[1;33m\u001b[0m\u001b[1;33m\u001b[0m\u001b[0m\n\u001b[0m\u001b[0;32m     80\u001b[0m         \u001b[1;32mif\u001b[0m \u001b[0mhtml\u001b[0m\u001b[1;33m.\u001b[0m\u001b[0mstatus_code\u001b[0m \u001b[1;33m==\u001b[0m \u001b[1;36m200\u001b[0m\u001b[1;33m:\u001b[0m\u001b[1;33m\u001b[0m\u001b[1;33m\u001b[0m\u001b[0m\n\u001b[0;32m     81\u001b[0m             \u001b[0mxmlContent\u001b[0m \u001b[1;33m=\u001b[0m \u001b[0metree\u001b[0m\u001b[1;33m.\u001b[0m\u001b[0mHTML\u001b[0m\u001b[1;33m(\u001b[0m\u001b[0mhtml\u001b[0m\u001b[1;33m.\u001b[0m\u001b[0mcontent\u001b[0m\u001b[1;33m)\u001b[0m\u001b[1;33m\u001b[0m\u001b[1;33m\u001b[0m\u001b[0m\n",
      "\u001b[1;32mc:\\users\\zsh\\appdata\\local\\programs\\python\\python36\\lib\\site-packages\\requests\\api.py\u001b[0m in \u001b[0;36mget\u001b[1;34m(url, params, **kwargs)\u001b[0m\n\u001b[0;32m     73\u001b[0m \u001b[1;33m\u001b[0m\u001b[0m\n\u001b[0;32m     74\u001b[0m     \u001b[0mkwargs\u001b[0m\u001b[1;33m.\u001b[0m\u001b[0msetdefault\u001b[0m\u001b[1;33m(\u001b[0m\u001b[1;34m'allow_redirects'\u001b[0m\u001b[1;33m,\u001b[0m \u001b[1;32mTrue\u001b[0m\u001b[1;33m)\u001b[0m\u001b[1;33m\u001b[0m\u001b[1;33m\u001b[0m\u001b[0m\n\u001b[1;32m---> 75\u001b[1;33m     \u001b[1;32mreturn\u001b[0m \u001b[0mrequest\u001b[0m\u001b[1;33m(\u001b[0m\u001b[1;34m'get'\u001b[0m\u001b[1;33m,\u001b[0m \u001b[0murl\u001b[0m\u001b[1;33m,\u001b[0m \u001b[0mparams\u001b[0m\u001b[1;33m=\u001b[0m\u001b[0mparams\u001b[0m\u001b[1;33m,\u001b[0m \u001b[1;33m**\u001b[0m\u001b[0mkwargs\u001b[0m\u001b[1;33m)\u001b[0m\u001b[1;33m\u001b[0m\u001b[1;33m\u001b[0m\u001b[0m\n\u001b[0m\u001b[0;32m     76\u001b[0m \u001b[1;33m\u001b[0m\u001b[0m\n\u001b[0;32m     77\u001b[0m \u001b[1;33m\u001b[0m\u001b[0m\n",
      "\u001b[1;32mc:\\users\\zsh\\appdata\\local\\programs\\python\\python36\\lib\\site-packages\\requests\\api.py\u001b[0m in \u001b[0;36mrequest\u001b[1;34m(method, url, **kwargs)\u001b[0m\n\u001b[0;32m     58\u001b[0m     \u001b[1;31m# cases, and look like a memory leak in others.\u001b[0m\u001b[1;33m\u001b[0m\u001b[1;33m\u001b[0m\u001b[1;33m\u001b[0m\u001b[0m\n\u001b[0;32m     59\u001b[0m     \u001b[1;32mwith\u001b[0m \u001b[0msessions\u001b[0m\u001b[1;33m.\u001b[0m\u001b[0mSession\u001b[0m\u001b[1;33m(\u001b[0m\u001b[1;33m)\u001b[0m \u001b[1;32mas\u001b[0m \u001b[0msession\u001b[0m\u001b[1;33m:\u001b[0m\u001b[1;33m\u001b[0m\u001b[1;33m\u001b[0m\u001b[0m\n\u001b[1;32m---> 60\u001b[1;33m         \u001b[1;32mreturn\u001b[0m \u001b[0msession\u001b[0m\u001b[1;33m.\u001b[0m\u001b[0mrequest\u001b[0m\u001b[1;33m(\u001b[0m\u001b[0mmethod\u001b[0m\u001b[1;33m=\u001b[0m\u001b[0mmethod\u001b[0m\u001b[1;33m,\u001b[0m \u001b[0murl\u001b[0m\u001b[1;33m=\u001b[0m\u001b[0murl\u001b[0m\u001b[1;33m,\u001b[0m \u001b[1;33m**\u001b[0m\u001b[0mkwargs\u001b[0m\u001b[1;33m)\u001b[0m\u001b[1;33m\u001b[0m\u001b[1;33m\u001b[0m\u001b[0m\n\u001b[0m\u001b[0;32m     61\u001b[0m \u001b[1;33m\u001b[0m\u001b[0m\n\u001b[0;32m     62\u001b[0m \u001b[1;33m\u001b[0m\u001b[0m\n",
      "\u001b[1;32mc:\\users\\zsh\\appdata\\local\\programs\\python\\python36\\lib\\site-packages\\requests\\sessions.py\u001b[0m in \u001b[0;36mrequest\u001b[1;34m(self, method, url, params, data, headers, cookies, files, auth, timeout, allow_redirects, proxies, hooks, stream, verify, cert, json)\u001b[0m\n\u001b[0;32m    531\u001b[0m         }\n\u001b[0;32m    532\u001b[0m         \u001b[0msend_kwargs\u001b[0m\u001b[1;33m.\u001b[0m\u001b[0mupdate\u001b[0m\u001b[1;33m(\u001b[0m\u001b[0msettings\u001b[0m\u001b[1;33m)\u001b[0m\u001b[1;33m\u001b[0m\u001b[1;33m\u001b[0m\u001b[0m\n\u001b[1;32m--> 533\u001b[1;33m         \u001b[0mresp\u001b[0m \u001b[1;33m=\u001b[0m \u001b[0mself\u001b[0m\u001b[1;33m.\u001b[0m\u001b[0msend\u001b[0m\u001b[1;33m(\u001b[0m\u001b[0mprep\u001b[0m\u001b[1;33m,\u001b[0m \u001b[1;33m**\u001b[0m\u001b[0msend_kwargs\u001b[0m\u001b[1;33m)\u001b[0m\u001b[1;33m\u001b[0m\u001b[1;33m\u001b[0m\u001b[0m\n\u001b[0m\u001b[0;32m    534\u001b[0m \u001b[1;33m\u001b[0m\u001b[0m\n\u001b[0;32m    535\u001b[0m         \u001b[1;32mreturn\u001b[0m \u001b[0mresp\u001b[0m\u001b[1;33m\u001b[0m\u001b[1;33m\u001b[0m\u001b[0m\n",
      "\u001b[1;32mc:\\users\\zsh\\appdata\\local\\programs\\python\\python36\\lib\\site-packages\\requests\\sessions.py\u001b[0m in \u001b[0;36msend\u001b[1;34m(self, request, **kwargs)\u001b[0m\n\u001b[0;32m    666\u001b[0m \u001b[1;33m\u001b[0m\u001b[0m\n\u001b[0;32m    667\u001b[0m         \u001b[1;31m# Resolve redirects if allowed.\u001b[0m\u001b[1;33m\u001b[0m\u001b[1;33m\u001b[0m\u001b[1;33m\u001b[0m\u001b[0m\n\u001b[1;32m--> 668\u001b[1;33m         \u001b[0mhistory\u001b[0m \u001b[1;33m=\u001b[0m \u001b[1;33m[\u001b[0m\u001b[0mresp\u001b[0m \u001b[1;32mfor\u001b[0m \u001b[0mresp\u001b[0m \u001b[1;32min\u001b[0m \u001b[0mgen\u001b[0m\u001b[1;33m]\u001b[0m \u001b[1;32mif\u001b[0m \u001b[0mallow_redirects\u001b[0m \u001b[1;32melse\u001b[0m \u001b[1;33m[\u001b[0m\u001b[1;33m]\u001b[0m\u001b[1;33m\u001b[0m\u001b[1;33m\u001b[0m\u001b[0m\n\u001b[0m\u001b[0;32m    669\u001b[0m \u001b[1;33m\u001b[0m\u001b[0m\n\u001b[0;32m    670\u001b[0m         \u001b[1;31m# Shuffle things around if there's history.\u001b[0m\u001b[1;33m\u001b[0m\u001b[1;33m\u001b[0m\u001b[1;33m\u001b[0m\u001b[0m\n",
      "\u001b[1;32mc:\\users\\zsh\\appdata\\local\\programs\\python\\python36\\lib\\site-packages\\requests\\sessions.py\u001b[0m in \u001b[0;36m<listcomp>\u001b[1;34m(.0)\u001b[0m\n\u001b[0;32m    666\u001b[0m \u001b[1;33m\u001b[0m\u001b[0m\n\u001b[0;32m    667\u001b[0m         \u001b[1;31m# Resolve redirects if allowed.\u001b[0m\u001b[1;33m\u001b[0m\u001b[1;33m\u001b[0m\u001b[1;33m\u001b[0m\u001b[0m\n\u001b[1;32m--> 668\u001b[1;33m         \u001b[0mhistory\u001b[0m \u001b[1;33m=\u001b[0m \u001b[1;33m[\u001b[0m\u001b[0mresp\u001b[0m \u001b[1;32mfor\u001b[0m \u001b[0mresp\u001b[0m \u001b[1;32min\u001b[0m \u001b[0mgen\u001b[0m\u001b[1;33m]\u001b[0m \u001b[1;32mif\u001b[0m \u001b[0mallow_redirects\u001b[0m \u001b[1;32melse\u001b[0m \u001b[1;33m[\u001b[0m\u001b[1;33m]\u001b[0m\u001b[1;33m\u001b[0m\u001b[1;33m\u001b[0m\u001b[0m\n\u001b[0m\u001b[0;32m    669\u001b[0m \u001b[1;33m\u001b[0m\u001b[0m\n\u001b[0;32m    670\u001b[0m         \u001b[1;31m# Shuffle things around if there's history.\u001b[0m\u001b[1;33m\u001b[0m\u001b[1;33m\u001b[0m\u001b[1;33m\u001b[0m\u001b[0m\n",
      "\u001b[1;32mc:\\users\\zsh\\appdata\\local\\programs\\python\\python36\\lib\\site-packages\\requests\\sessions.py\u001b[0m in \u001b[0;36mresolve_redirects\u001b[1;34m(self, resp, req, stream, timeout, verify, cert, proxies, yield_requests, **adapter_kwargs)\u001b[0m\n\u001b[0;32m    245\u001b[0m                     \u001b[0mproxies\u001b[0m\u001b[1;33m=\u001b[0m\u001b[0mproxies\u001b[0m\u001b[1;33m,\u001b[0m\u001b[1;33m\u001b[0m\u001b[1;33m\u001b[0m\u001b[0m\n\u001b[0;32m    246\u001b[0m                     \u001b[0mallow_redirects\u001b[0m\u001b[1;33m=\u001b[0m\u001b[1;32mFalse\u001b[0m\u001b[1;33m,\u001b[0m\u001b[1;33m\u001b[0m\u001b[1;33m\u001b[0m\u001b[0m\n\u001b[1;32m--> 247\u001b[1;33m                     \u001b[1;33m**\u001b[0m\u001b[0madapter_kwargs\u001b[0m\u001b[1;33m\u001b[0m\u001b[1;33m\u001b[0m\u001b[0m\n\u001b[0m\u001b[0;32m    248\u001b[0m                 )\n\u001b[0;32m    249\u001b[0m \u001b[1;33m\u001b[0m\u001b[0m\n",
      "\u001b[1;32mc:\\users\\zsh\\appdata\\local\\programs\\python\\python36\\lib\\site-packages\\requests\\sessions.py\u001b[0m in \u001b[0;36msend\u001b[1;34m(self, request, **kwargs)\u001b[0m\n\u001b[0;32m    644\u001b[0m \u001b[1;33m\u001b[0m\u001b[0m\n\u001b[0;32m    645\u001b[0m         \u001b[1;31m# Send the request\u001b[0m\u001b[1;33m\u001b[0m\u001b[1;33m\u001b[0m\u001b[1;33m\u001b[0m\u001b[0m\n\u001b[1;32m--> 646\u001b[1;33m         \u001b[0mr\u001b[0m \u001b[1;33m=\u001b[0m \u001b[0madapter\u001b[0m\u001b[1;33m.\u001b[0m\u001b[0msend\u001b[0m\u001b[1;33m(\u001b[0m\u001b[0mrequest\u001b[0m\u001b[1;33m,\u001b[0m \u001b[1;33m**\u001b[0m\u001b[0mkwargs\u001b[0m\u001b[1;33m)\u001b[0m\u001b[1;33m\u001b[0m\u001b[1;33m\u001b[0m\u001b[0m\n\u001b[0m\u001b[0;32m    647\u001b[0m \u001b[1;33m\u001b[0m\u001b[0m\n\u001b[0;32m    648\u001b[0m         \u001b[1;31m# Total elapsed time of the request (approximately)\u001b[0m\u001b[1;33m\u001b[0m\u001b[1;33m\u001b[0m\u001b[1;33m\u001b[0m\u001b[0m\n",
      "\u001b[1;32mc:\\users\\zsh\\appdata\\local\\programs\\python\\python36\\lib\\site-packages\\requests\\adapters.py\u001b[0m in \u001b[0;36msend\u001b[1;34m(self, request, stream, timeout, verify, cert, proxies)\u001b[0m\n\u001b[0;32m    496\u001b[0m \u001b[1;33m\u001b[0m\u001b[0m\n\u001b[0;32m    497\u001b[0m         \u001b[1;32mexcept\u001b[0m \u001b[1;33m(\u001b[0m\u001b[0mProtocolError\u001b[0m\u001b[1;33m,\u001b[0m \u001b[0msocket\u001b[0m\u001b[1;33m.\u001b[0m\u001b[0merror\u001b[0m\u001b[1;33m)\u001b[0m \u001b[1;32mas\u001b[0m \u001b[0merr\u001b[0m\u001b[1;33m:\u001b[0m\u001b[1;33m\u001b[0m\u001b[1;33m\u001b[0m\u001b[0m\n\u001b[1;32m--> 498\u001b[1;33m             \u001b[1;32mraise\u001b[0m \u001b[0mConnectionError\u001b[0m\u001b[1;33m(\u001b[0m\u001b[0merr\u001b[0m\u001b[1;33m,\u001b[0m \u001b[0mrequest\u001b[0m\u001b[1;33m=\u001b[0m\u001b[0mrequest\u001b[0m\u001b[1;33m)\u001b[0m\u001b[1;33m\u001b[0m\u001b[1;33m\u001b[0m\u001b[0m\n\u001b[0m\u001b[0;32m    499\u001b[0m \u001b[1;33m\u001b[0m\u001b[0m\n\u001b[0;32m    500\u001b[0m         \u001b[1;32mexcept\u001b[0m \u001b[0mMaxRetryError\u001b[0m \u001b[1;32mas\u001b[0m \u001b[0me\u001b[0m\u001b[1;33m:\u001b[0m\u001b[1;33m\u001b[0m\u001b[1;33m\u001b[0m\u001b[0m\n",
      "\u001b[1;31mConnectionError\u001b[0m: ('Connection aborted.', ConnectionResetError(10054, '远程主机强迫关闭了一个现有的连接。', None, 10054, None))"
     ]
    }
   ],
   "source": [
    "import requests\n",
    "import os\n",
    "from lxml import etree\n",
    "from threading import *\n",
    "from time import sleep\n",
    " \n",
    "nMaxThread = 3  #这里设置需要开启几条线程\n",
    "ThreadLock = BoundedSemaphore(nMaxThread)\n",
    " \n",
    "gHeads = {\n",
    "    \"User-Agent\":\"Mozilla/5.0 (Windows NT 6.1; WOW64) AppleWebKit/537.36 (KHTML, like Gecko) Chrome/55.0.2883.87 Safari/537.36\",\n",
    "}\n",
    " \n",
    "class Meizitu(Thread):\n",
    "    def __init__(self,mainReferer,url,title):\n",
    "        Thread.__init__(self)\n",
    "        self.MainReferer = mainReferer  \n",
    "        self.url = url\n",
    "        self.title = title[3:-4]  #这里是为了把<b></b>给删除\n",
    " \n",
    "    def run(self):\n",
    "        try:\n",
    "            urlList = self.GetPhotoUrl()\n",
    "            if len(urlList) > 0 and urlList != None:\n",
    "                self.SavePath(urlList)\n",
    "            \n",
    "        finally:\n",
    "            ThreadLock.release()\n",
    " \n",
    "    def GetPhotoUrl(self):\n",
    "        heads={\n",
    "            \"Referer\":self.MainReferer\n",
    "        }\n",
    "        heads.update(gHeads)\n",
    "        html = requests.get(self.url,headers=heads)\n",
    "        if html.status_code == 200:\n",
    "            xmlContent = etree.HTML(html.text)\n",
    "            urlList = xmlContent.xpath(\"//div[@id='picture']/p/img/@src\")\n",
    "            return urlList\n",
    "        else:\n",
    "            return None\n",
    " \n",
    "    def SavePath(self,urlList):\n",
    "        heads = {\n",
    "            \"Referer\": self.url\n",
    "        }\n",
    "        heads.update(gHeads)\n",
    "        savePath = \"./photo/%s\" % self.title\n",
    "        if not os.path.exists(savePath):\n",
    "            os.makedirs(savePath)\n",
    "        for i in range(len(urlList)):\n",
    "            j = 0\n",
    "            while j<5:\n",
    "                print(\"Download : %s/%d.jpg\"%(self.title.encode(\"gbk\"), i + 1))\n",
    "                html = requests.get(urlList[i],headers=heads)\n",
    "                if html.status_code == 200:\n",
    "                    with open(savePath + \"/%d.jpg\"%(i+1),\"wb\") as f:\n",
    "                        f.write(html.content)\n",
    "                    break\n",
    "                elif html.status_code == 404:\n",
    "                    j+=1\n",
    "                    sleep(0.05)\n",
    "                    continue\n",
    "                else:\n",
    "                    return None\n",
    " \n",
    " \n",
    "def main():\n",
    "    while True:\n",
    "        try:\n",
    "            nNum = int(input(\"请输入要下载几页: \"))\n",
    "            if nNum>0:\n",
    "                break\n",
    "        except ValueError:\n",
    "            print(\"请输入数字。\")\n",
    "            continue\n",
    "    for i in range(nNum):\n",
    "        url = \"http://www.meizitu.com/a/more_%d.html\"%(i+1)\n",
    "        html = requests.get(url,headers=gHeads)\n",
    "        if html.status_code == 200:\n",
    "            xmlContent = etree.HTML(html.content)\n",
    "            hrefList = xmlContent.xpath(\"//div[@class='pic']/a/@href\")\n",
    "            titleList = xmlContent.xpath(\"//div[@class='pic']/a/img/@alt\")\n",
    "            for i in range(len(hrefList)):\n",
    "                ThreadLock.acquire()\n",
    "                t = Meizitu(url,hrefList[i],titleList[i])\n",
    "                t.start()\n",
    " \n",
    " \n",
    "if __name__ == '__main__':\n",
    "    main()"
   ]
  },
  {
   "cell_type": "code",
   "execution_count": 45,
   "metadata": {},
   "outputs": [],
   "source": [
    "t = []"
   ]
  },
  {
   "cell_type": "code",
   "execution_count": 46,
   "metadata": {},
   "outputs": [
    {
     "ename": "IndexError",
     "evalue": "list assignment index out of range",
     "output_type": "error",
     "traceback": [
      "\u001b[1;31m---------------------------------------------------------------------------\u001b[0m",
      "\u001b[1;31mIndexError\u001b[0m                                Traceback (most recent call last)",
      "\u001b[1;32m<ipython-input-46-c8aeb8cd20ae>\u001b[0m in \u001b[0;36m<module>\u001b[1;34m\u001b[0m\n\u001b[1;32m----> 1\u001b[1;33m \u001b[0mt\u001b[0m\u001b[1;33m[\u001b[0m\u001b[1;36m0\u001b[0m\u001b[1;33m]\u001b[0m \u001b[1;33m=\u001b[0m \u001b[1;36m1\u001b[0m\u001b[1;33m\u001b[0m\u001b[1;33m\u001b[0m\u001b[0m\n\u001b[0m",
      "\u001b[1;31mIndexError\u001b[0m: list assignment index out of range"
     ]
    }
   ],
   "source": [
    "t[0] = 1"
   ]
  },
  {
   "cell_type": "code",
   "execution_count": 48,
   "metadata": {},
   "outputs": [
    {
     "ename": "SyntaxError",
     "evalue": "invalid syntax (<ipython-input-48-8fde0dce9bda>, line 1)",
     "output_type": "error",
     "traceback": [
      "\u001b[1;36m  File \u001b[1;32m\"<ipython-input-48-8fde0dce9bda>\"\u001b[1;36m, line \u001b[1;32m1\u001b[0m\n\u001b[1;33m    var currentPosition,timer;\u001b[0m\n\u001b[1;37m                      ^\u001b[0m\n\u001b[1;31mSyntaxError\u001b[0m\u001b[1;31m:\u001b[0m invalid syntax\n"
     ]
    }
   ],
   "source": [
    "var currentPosition,timer; \n",
    "function GoBottom(){ \n",
    "timer=setInterval(\"runToBottom()\",1); \n",
    "} \n",
    "function runToBottom(){\n",
    "    currentPosition=document.documentElement.scrollTop || document.body.scrollTop; \n",
    "    currentPosition+=50;\n",
    "    if(currentPosition<4000) \n",
    "{ \n",
    "    window.scrollTo(0,currentPosition); \n",
    "} \n",
    "else \n",
    "{ \n",
    "    window.scrollTo(0,0); \n",
    "    clearInterval(timer); \n",
    "} } "
   ]
  },
  {
   "cell_type": "code",
   "execution_count": 62,
   "metadata": {},
   "outputs": [
    {
     "name": "stdout",
     "output_type": "stream",
     "text": [
      "this is an add Thread,number is <Thread(T1, started 16092)>\n",
      "T1 start\n",
      "T2 start\n",
      "T2 finish\n",
      "T1 finish\n",
      "all done\n"
     ]
    }
   ],
   "source": [
    "import threading\n",
    "import time\n",
    "\n",
    "def thread_job():\n",
    "    print('this is an add Thread,number is %s'% threading.current_thread())\n",
    "    print('T1 start')\n",
    "    for i in range(10):\n",
    "        time.sleep(0.1)\n",
    "    print('T1 finish')\n",
    "\n",
    "def T2_job():\n",
    "    print(\"T2 start\")\n",
    "    print('T2 finish')\n",
    "\n",
    "def main():\n",
    "    added_thread = threading.Thread(target=thread_job,name='T1')\n",
    "    thread2 = threading.Thread(target=T2_job,name=\"T2\")\n",
    "    added_thread.start()\n",
    "    thread2.start()\n",
    "    added_thread.join()\n",
    "    thread2.join()\n",
    "    print('all done')\n",
    "    #print(threading.active_count())\n",
    "    #print(threading.enumerate())\n",
    "    #print(threading.current_thread())\n",
    "\n",
    "if __name__ == \"__main__\":\n",
    "    main()"
   ]
  },
  {
   "cell_type": "code",
   "execution_count": 68,
   "metadata": {},
   "outputs": [
    {
     "name": "stdout",
     "output_type": "stream",
     "text": [
      "[[1, 4, 9], [9, 16, 25], [16, 16, 16], [25, 25, 25]]\n"
     ]
    }
   ],
   "source": [
    "import threading\n",
    "import time\n",
    "from queue import Queue\n",
    "\n",
    "def job(l,q):\n",
    "    for i in range(len(l)):\n",
    "        l[i] = l[i]**2\n",
    "    q.put(l)\n",
    "\n",
    "def multithreading():\n",
    "    q = Queue()\n",
    "    threads = []\n",
    "    data = [[1,2,3],[3,4,5],[4,4,4],[5,5,5]]\n",
    "    for i in range(4):\n",
    "        t = threading.Thread(target=job,args=(data[i],q))\n",
    "        t.start()\n",
    "        threads.append(t)\n",
    "    for thread in threads:\n",
    "        thread.join()\n",
    "    results = []\n",
    "    for _ in range(4):\n",
    "        results.append(q.get())\n",
    "    print(results)\n",
    "    \n",
    "if __name__ == '__main__':\n",
    "    multithreading()"
   ]
  },
  {
   "cell_type": "code",
   "execution_count": 73,
   "metadata": {},
   "outputs": [
    {
     "name": "stdout",
     "output_type": "stream",
     "text": [
      "job1 1\n",
      "job1 job22 12\n",
      "job2 22\n",
      "job2 32\n",
      "job2 42\n",
      "job2 52\n",
      "job2 62\n",
      "job2 72\n",
      "job2 82\n",
      "job2 92\n",
      "job2 102\n",
      "\n",
      "job1 103\n",
      "job1 104\n",
      "job1 105\n",
      "job1 106\n",
      "job1 107\n",
      "job1 108\n",
      "job1 109\n",
      "job1 110\n"
     ]
    }
   ],
   "source": [
    "import threading\n",
    "\n",
    "def job1():\n",
    "    global A,lock\n",
    "#     lock.acquire()\n",
    "    for i in range(10):\n",
    "        A += 1\n",
    "        print('job1',A)\n",
    "#     lock.release()\n",
    "    pass\n",
    "\n",
    "def job2():\n",
    "    global A,lock\n",
    "#     lock.acquire()\n",
    "    for i in range(10):\n",
    "        A += 10\n",
    "        print('job2',A)\n",
    "#     lock.release()\n",
    "    pass\n",
    "\n",
    "if __name__ == \"__main__\":\n",
    "    lock = threading.Lock()\n",
    "    A = 0\n",
    "    t1 = threading.Thread(target=job1)\n",
    "    t2 = threading.Thread(target=job2)\n",
    "    t1.start()\n",
    "    t2.start()\n",
    "    "
   ]
  },
  {
   "cell_type": "code",
   "execution_count": 74,
   "metadata": {},
   "outputs": [
    {
     "name": "stdout",
     "output_type": "stream",
     "text": [
      "1999998000000\n",
      "normal: 0.2748425006866455\n",
      "1999998000000\n",
      "multithreading: 0.23386740684509277\n"
     ]
    }
   ],
   "source": [
    "import threading\n",
    "from queue import Queue\n",
    "import copy\n",
    "import time\n",
    "\n",
    "def job(l,q):\n",
    "    res = sum(l)\n",
    "    q.put(res)\n",
    "\n",
    "def multithreading(l):\n",
    "    q = Queue()\n",
    "    threads = []\n",
    "    for i in range(4):\n",
    "        t = threading.Thread(target=job,args=(copy.copy(l),q))\n",
    "        t.start()\n",
    "        threads.append(t)\n",
    "    [t.join() for t in threads]\n",
    "    total = 0\n",
    "    for _ in range(4):\n",
    "        total += q.get()\n",
    "    print(total)\n",
    "    \n",
    "def normal(l):\n",
    "    total = sum(l)\n",
    "    print(total)\n",
    "\n",
    "\n",
    "if __name__ == \"__main__\":\n",
    "    l = list(range(1000000))\n",
    "    s_t = time.time()\n",
    "    normal(l*4)\n",
    "    print(\"normal:\",time.time()-s_t)\n",
    "    s_t = time.time()\n",
    "    multithreading(l)\n",
    "    print(\"multithreading:\",time.time()-s_t)"
   ]
  },
  {
   "cell_type": "code",
   "execution_count": 76,
   "metadata": {},
   "outputs": [
    {
     "name": "stdout",
     "output_type": "stream",
     "text": [
      "hello\n"
     ]
    }
   ],
   "source": [
    "class A:\n",
    "    def __init__(self):\n",
    "        print('hello')\n",
    "        \n",
    "a = A()"
   ]
  },
  {
   "cell_type": "code",
   "execution_count": 77,
   "metadata": {},
   "outputs": [
    {
     "name": "stdout",
     "output_type": "stream",
     "text": [
      "Collecting ipyvolume\n",
      "  Downloading https://files.pythonhosted.org/packages/6c/e4/4a6754d2c390ee627f82aeaae76b34a1daf30eea80af41215eebedb0f5ce/ipyvolume-0.5.1-py2.py3-none-any.whl (2.3MB)\n",
      "Collecting traittypes (from ipyvolume)\n",
      "  Downloading https://files.pythonhosted.org/packages/9c/d1/8d5bd662703cc1764d986f6908a608777305946fa634d34c470cd4a1e729/traittypes-0.2.1-py2.py3-none-any.whl\n",
      "Requirement already satisfied: Pillow in c:\\users\\zsh\\appdata\\local\\programs\\python\\python36\\lib\\site-packages (from ipyvolume) (5.4.1)\n",
      "Requirement already satisfied: traitlets in c:\\users\\zsh\\appdata\\local\\programs\\python\\python36\\lib\\site-packages (from ipyvolume) (4.3.2)\n",
      "Collecting pythreejs>=1.0.0 (from ipyvolume)\n",
      "Note: you may need to restart the kernel to use updated packages.\n"
     ]
    },
    {
     "name": "stderr",
     "output_type": "stream",
     "text": [
      "  Could not find a version that satisfies the requirement pythreejs>=1.0.0 (from ipyvolume) (from versions: )\n",
      "No matching distribution found for pythreejs>=1.0.0 (from ipyvolume)\n",
      "You are using pip version 18.1, however version 19.0.3 is available.\n",
      "You should consider upgrading via the 'python -m pip install --upgrade pip' command.\n"
     ]
    }
   ],
   "source": [
    "pip install ipyvolume"
   ]
  },
  {
   "cell_type": "code",
   "execution_count": 78,
   "metadata": {},
   "outputs": [
    {
     "ename": "ModuleNotFoundError",
     "evalue": "No module named 'ipyvolume'",
     "output_type": "error",
     "traceback": [
      "\u001b[1;31m---------------------------------------------------------------------------\u001b[0m",
      "\u001b[1;31mModuleNotFoundError\u001b[0m                       Traceback (most recent call last)",
      "\u001b[1;32m<ipython-input-78-2079938747da>\u001b[0m in \u001b[0;36m<module>\u001b[1;34m\u001b[0m\n\u001b[1;32m----> 1\u001b[1;33m \u001b[1;32mimport\u001b[0m \u001b[0mipyvolume\u001b[0m\u001b[1;33m\u001b[0m\u001b[1;33m\u001b[0m\u001b[0m\n\u001b[0m",
      "\u001b[1;31mModuleNotFoundError\u001b[0m: No module named 'ipyvolume'"
     ]
    }
   ],
   "source": [
    "import ipyvolume"
   ]
  },
  {
   "cell_type": "code",
   "execution_count": 97,
   "metadata": {},
   "outputs": [
    {
     "name": "stdout",
     "output_type": "stream",
     "text": [
      "[0, 1]\n"
     ]
    }
   ],
   "source": [
    "def two_sum(nums,target):\n",
    "    for i in range(len(nums)):\n",
    "        b = target - nums[i]\n",
    "        if b in nums:\n",
    "            y = nums.index(b)\n",
    "            if y!=i:\n",
    "                return [i,y] \n",
    "if __name__ == '__main__':\n",
    "    nums = [2,7,11,15]\n",
    "    target = 9\n",
    "    print(two_sum(nums,target))"
   ]
  },
  {
   "cell_type": "code",
   "execution_count": 89,
   "metadata": {},
   "outputs": [
    {
     "name": "stdout",
     "output_type": "stream",
     "text": [
      "{16: 0}\n",
      "{16: 0, 11: 1}\n",
      "[1, 2]\n"
     ]
    }
   ],
   "source": [
    "def two_sum(nums,target):\n",
    "    d = {}\n",
    "    for i in range(len(nums)):\n",
    "        a = target - nums[i]\n",
    "        if nums[i] in d:\n",
    "            return [d[nums[i]],i] \n",
    "        else:\n",
    "            d[a]=i\n",
    "            print(d)\n",
    "            \n",
    "if __name__ == '__main__':\n",
    "    nums = [2,7,11,15]\n",
    "    target = 18\n",
    "    print(two_sum(nums,target))"
   ]
  },
  {
   "cell_type": "code",
   "execution_count": 100,
   "metadata": {},
   "outputs": [
    {
     "name": "stdout",
     "output_type": "stream",
     "text": [
      "3\n"
     ]
    }
   ],
   "source": [
    "def lengthOfLongestSubstring(s):\n",
    "    \"\"\"\n",
    "    :type s: str\n",
    "    :rtype: int\n",
    "    \"\"\"\n",
    "    maxLength = 0\n",
    "    for i in range(len(s)):\n",
    "        count = 0\n",
    "        usedChar = ''\n",
    "        for j in s[i:]: \n",
    "            if j not in usedChar:\n",
    "                usedChar += j\n",
    "                count += 1\n",
    "                if maxLength < count:#这里没有使用max函数\n",
    "                    maxLength = count\n",
    "            else:                   \n",
    "                break\n",
    "    return maxLength\n",
    "\n",
    "if __name__ == '__main__':\n",
    "    a = lengthOfLongestSubstring('pwwkew')\n",
    "    print(a)"
   ]
  },
  {
   "cell_type": "code",
   "execution_count": 101,
   "metadata": {},
   "outputs": [
    {
     "name": "stdout",
     "output_type": "stream",
     "text": [
      "3\n"
     ]
    }
   ],
   "source": [
    "def lengthOfLengestSubstring(s):\n",
    "    maxLength = 0\n",
    "    for i in range(len(s)):\n",
    "        count = 0\n",
    "        usedStr = ''\n",
    "        for j in s[i:]:\n",
    "            if j not in usedStr:\n",
    "                usedStr += j\n",
    "                count += 1\n",
    "                if maxLength < count:\n",
    "                    maxLength = count\n",
    "            else:\n",
    "                break\n",
    "    return maxLength\n",
    "\n",
    "\n",
    "if __name__ == '__main__':\n",
    "    print(lengthOfLengestSubstring('pwwkew'))"
   ]
  },
  {
   "cell_type": "code",
   "execution_count": 102,
   "metadata": {},
   "outputs": [
    {
     "name": "stdout",
     "output_type": "stream",
     "text": [
      "3\n"
     ]
    }
   ],
   "source": [
    "def lengthOfLongestSubstring(s):\n",
    "    \"\"\"\n",
    "    :type s: str\n",
    "    :rtype: int\n",
    "    \"\"\"\n",
    "    start = maxLength = 0\n",
    "    usedChar = {}\n",
    "    for index, char in enumerate(s):\n",
    "        if char in usedChar and start <= usedChar[char]:\n",
    "            start = usedChar[char] + 1\n",
    "        else:\n",
    "            maxLength = max(maxLength, index - start + 1)\n",
    "        usedChar[char] = index\n",
    "    return maxLength\n",
    "\n",
    "\n",
    "if __name__ == '__main__':\n",
    "    print(lengthOfLengestSubstring('pwwkew'))"
   ]
  },
  {
   "cell_type": "code",
   "execution_count": 104,
   "metadata": {},
   "outputs": [
    {
     "name": "stdout",
     "output_type": "stream",
     "text": [
      "3\n"
     ]
    }
   ],
   "source": [
    "def lengthOfLongestSubstring(s):\n",
    "    l = 0\n",
    "    r = 0\n",
    "    maxLength = 0\n",
    "    s_len = len(s)\n",
    "    usedChar = [0] * 256 #通过符号表记录符号出现次数\n",
    "    while l < s_len:\n",
    "        if r < s_len and usedChar[ord(s[r])] == 0:\n",
    "            usedChar[ord(s[r])] += 1\n",
    "            r += 1\n",
    "        else:\n",
    "            usedChar[ord(s[l])] -= 1\n",
    "            l += 1\n",
    "\n",
    "        maxLength = max(maxLength, r - l)\n",
    "\n",
    "    return maxLength\n",
    "\n",
    "\n",
    "if __name__ == '__main__':\n",
    "    print(lengthOfLengestSubstring('pwwkew'))"
   ]
  },
  {
   "cell_type": "code",
   "execution_count": 109,
   "metadata": {},
   "outputs": [
    {
     "name": "stdout",
     "output_type": "stream",
     "text": [
      "21\n"
     ]
    }
   ],
   "source": [
    "def reverseInt(a):\n",
    "    res = 0\n",
    "    while a:\n",
    "        temp = res*10+a%10\n",
    "        if temp//10 != res:\n",
    "            return 0\n",
    "        res = temp\n",
    "        a = a//10\n",
    "    return res\n",
    "\n",
    "\n",
    "if __name__ == '__main__':\n",
    "    print(reverseInt(120))"
   ]
  },
  {
   "cell_type": "markdown",
   "metadata": {},
   "source": [
    "def longestPalindromic(a):\n",
    "   if len(a) == 0:\n",
    "   return a\n",
    "    res = a[0]\n",
    "    for i in range(len(s))\n",
    "        for j in range(i+1,len(s)):\n",
    "            temp = s[i:j]\n",
    "            if temp = temp[::-1] and len(temp)>len(res):\n",
    "\n"
   ]
  },
  {
   "cell_type": "code",
   "execution_count": 133,
   "metadata": {},
   "outputs": [
    {
     "name": "stdout",
     "output_type": "stream",
     "text": [
      "r\n",
      "rq\n",
      "rqw\n",
      "rqwe\n",
      "rqwef\n",
      "rqwefa\n",
      "rqwefas\n",
      "rqwefasd\n",
      "rqwefasdf\n",
      "rqwefasdfs\n",
      "rqwefasdfsf\n",
      "rqwefasdfsfq\n",
      "rqwefasdfsfqw\n",
      "rqwefasdfsfqwe\n",
      "rqwefasdfsfqwer\n",
      "rqwefasdfsfqwerf\n",
      "rqwefasdfsfqwerfq\n",
      "rqwefasdfsfqwerfqw\n",
      "q\n",
      "qw\n",
      "qwe\n",
      "qwef\n",
      "qwefa\n",
      "qwefas\n",
      "qwefasd\n",
      "qwefasdf\n",
      "qwefasdfs\n",
      "qwefasdfsf\n",
      "qwefasdfsfq\n",
      "qwefasdfsfqw\n",
      "qwefasdfsfqwe\n",
      "qwefasdfsfqwer\n",
      "qwefasdfsfqwerf\n",
      "qwefasdfsfqwerfq\n",
      "qwefasdfsfqwerfqw\n",
      "w\n",
      "we\n",
      "wef\n",
      "wefa\n",
      "wefas\n",
      "wefasd\n",
      "wefasdf\n",
      "wefasdfs\n",
      "wefasdfsf\n",
      "wefasdfsfq\n",
      "wefasdfsfqw\n",
      "wefasdfsfqwe\n",
      "wefasdfsfqwer\n",
      "wefasdfsfqwerf\n",
      "wefasdfsfqwerfq\n",
      "wefasdfsfqwerfqw\n",
      "e\n",
      "ef\n",
      "efa\n",
      "efas\n",
      "efasd\n",
      "efasdf\n",
      "efasdfs\n",
      "efasdfsf\n",
      "efasdfsfq\n",
      "efasdfsfqw\n",
      "efasdfsfqwe\n",
      "efasdfsfqwer\n",
      "efasdfsfqwerf\n",
      "efasdfsfqwerfq\n",
      "efasdfsfqwerfqw\n",
      "f\n",
      "fa\n",
      "fas\n",
      "fasd\n",
      "fasdf\n",
      "fasdfs\n",
      "fasdfsf\n",
      "fasdfsfq\n",
      "fasdfsfqw\n",
      "fasdfsfqwe\n",
      "fasdfsfqwer\n",
      "fasdfsfqwerf\n",
      "fasdfsfqwerfq\n",
      "fasdfsfqwerfqw\n",
      "a\n",
      "as\n",
      "asd\n",
      "asdf\n",
      "asdfs\n",
      "asdfsf\n",
      "asdfsfq\n",
      "asdfsfqw\n",
      "asdfsfqwe\n",
      "asdfsfqwer\n",
      "asdfsfqwerf\n",
      "asdfsfqwerfq\n",
      "asdfsfqwerfqw\n",
      "s\n",
      "sd\n",
      "sdf\n",
      "sdfs\n",
      "sdfsf\n",
      "sdfsfq\n",
      "sdfsfqw\n",
      "sdfsfqwe\n",
      "sdfsfqwer\n",
      "sdfsfqwerf\n",
      "sdfsfqwerfq\n",
      "sdfsfqwerfqw\n",
      "d\n",
      "df\n",
      "dfs\n",
      "dfsf\n",
      "dfsfq\n",
      "dfsfqw\n",
      "dfsfqwe\n",
      "dfsfqwer\n",
      "dfsfqwerf\n",
      "dfsfqwerfq\n",
      "dfsfqwerfqw\n",
      "f\n",
      "fs\n",
      "fsf\n",
      "3 1\n",
      "fsfq\n",
      "fsfqw\n",
      "fsfqwe\n",
      "fsfqwer\n",
      "fsfqwerf\n",
      "fsfqwerfq\n",
      "fsfqwerfqw\n",
      "s\n",
      "sf\n",
      "sfq\n",
      "sfqw\n",
      "sfqwe\n",
      "sfqwer\n",
      "sfqwerf\n",
      "sfqwerfq\n",
      "sfqwerfqw\n",
      "f\n",
      "fq\n",
      "fqw\n",
      "fqwe\n",
      "fqwer\n",
      "fqwerf\n",
      "fqwerfq\n",
      "fqwerfqw\n",
      "q\n",
      "qw\n",
      "qwe\n",
      "qwer\n",
      "qwerf\n",
      "qwerfq\n",
      "qwerfqw\n",
      "w\n",
      "we\n",
      "wer\n",
      "werf\n",
      "werfq\n",
      "werfqw\n",
      "e\n",
      "er\n",
      "erf\n",
      "erfq\n",
      "erfqw\n",
      "r\n",
      "rf\n",
      "rfq\n",
      "rfqw\n",
      "f\n",
      "fq\n",
      "fqw\n",
      "q\n",
      "qw\n",
      "w\n",
      "w\n"
     ]
    }
   ],
   "source": [
    "def longestPalindromic(a):\n",
    "    if len(a) == 0:\n",
    "        return a\n",
    "    res = a[0]\n",
    "    for i in range(len(a)):\n",
    "        for j in range(i+1,len(a)+1):\n",
    "            temp = a[i:j]\n",
    "            print(temp)\n",
    "            if temp == temp[::-1] and len(temp)>len(res):\n",
    "                print(len(temp),len(res))\n",
    "                res =temp\n",
    "    return temp\n",
    "\n",
    "\n",
    "if __name__ == '__main__':\n",
    "    print(longestPalindromic('rqwefasdfsfqwerfqw'))"
   ]
  },
  {
   "cell_type": "code",
   "execution_count": 140,
   "metadata": {},
   "outputs": [
    {
     "name": "stdout",
     "output_type": "stream",
     "text": [
      "sdds\n"
     ]
    }
   ],
   "source": [
    "def longestPalindromic(a):\n",
    "    if len(a) == 0:\n",
    "        return a\n",
    "    res = a[0]\n",
    "    for i in range(len(a)):\n",
    "        for j in range(i+1,len(a)+1):\n",
    "            temp = a[i:j]\n",
    "            if temp == temp[::-1] and len(temp)>len(res):\n",
    "                res =temp\n",
    "                \n",
    "    return res\n",
    "\n",
    "\n",
    "if __name__ == '__main__':\n",
    "    print(longestPalindromic('ewfaszdvvadsvdabvfsddsdc'))"
   ]
  },
  {
   "cell_type": "code",
   "execution_count": 145,
   "metadata": {},
   "outputs": [
    {
     "name": "stdout",
     "output_type": "stream",
     "text": [
      "2\n"
     ]
    }
   ],
   "source": [
    "def medianOfTwoSorted(nums1,nums2):\n",
    "    nums = sorted(nums1+nums2)\n",
    "    if len(nums)%2 == 0:\n",
    "        answer = (nums[len(nums)//2-1]+nums[len(nums)//2])/2\n",
    "        pass\n",
    "    else:\n",
    "        answer = nums[len(nums)//2]\n",
    "        pass\n",
    "    return answer\n",
    "\n",
    "\n",
    "if __name__ == \"__main__\":\n",
    "    nums1 = [1,2,3]\n",
    "    nums2 = [0,5]\n",
    "    print(medianOfTwoSorted(nums1,nums2))"
   ]
  },
  {
   "cell_type": "code",
   "execution_count": 163,
   "metadata": {},
   "outputs": [
    {
     "name": "stdout",
     "output_type": "stream",
     "text": [
      "58\n"
     ]
    }
   ],
   "source": [
    "def romToInt(s):\n",
    "    d = {'I':1,\"V\":5,\"X\":10,\"L\":50,\"C\":100,\"D\":500,\"M\":1000}\n",
    "    i = 0\n",
    "    results = 0\n",
    "    while i<len(s)-1:\n",
    "        if d[s[i]]>=d[s[i+1]]:\n",
    "            results += d[s[i]]\n",
    "            i += 1\n",
    "        else:\n",
    "            temp = d[s[i+1]] - d[s[i]]\n",
    "            results += temp\n",
    "            i += 2\n",
    "    if i == len(s)-1:\n",
    "        results += d[s[i]]\n",
    "    \n",
    "    return results\n",
    "        \n",
    "print(romToInt('LVIII'))"
   ]
  },
  {
   "cell_type": "code",
   "execution_count": 171,
   "metadata": {},
   "outputs": [
    {
     "name": "stdout",
     "output_type": "stream",
     "text": [
      "58\n"
     ]
    }
   ],
   "source": [
    "def romToInt(s):\n",
    "    d = {'I':1,\"V\":5,\"X\":10,\"L\":50,\"C\":100,\"D\":500,\"M\":1000}\n",
    "    i = 0\n",
    "    results = 0\n",
    "    while i<len(s)-1:\n",
    "        if d[s[i]] < d[s[i+1]]:\n",
    "            results -= d[s[i]]\n",
    "            i += 1\n",
    "        else:\n",
    "            results += d[s[i]]\n",
    "            i += 1\n",
    "    \n",
    "    results += d[s[-1]]\n",
    "    \n",
    "    \n",
    "    return results\n",
    "        \n",
    "print(romToInt('LVIII'))"
   ]
  },
  {
   "cell_type": "code",
   "execution_count": 182,
   "metadata": {},
   "outputs": [
    {
     "ename": "NameError",
     "evalue": "name 'ListNode' is not defined",
     "output_type": "error",
     "traceback": [
      "\u001b[1;31m---------------------------------------------------------------------------\u001b[0m",
      "\u001b[1;31mNameError\u001b[0m                                 Traceback (most recent call last)",
      "\u001b[1;32m<ipython-input-182-2c5e8d0f7022>\u001b[0m in \u001b[0;36m<module>\u001b[1;34m\u001b[0m\n\u001b[0;32m     29\u001b[0m \u001b[1;32mif\u001b[0m \u001b[0m__name__\u001b[0m \u001b[1;33m==\u001b[0m \u001b[1;34m\"__main__\"\u001b[0m\u001b[1;33m:\u001b[0m\u001b[1;33m\u001b[0m\u001b[1;33m\u001b[0m\u001b[0m\n\u001b[0;32m     30\u001b[0m     \u001b[0ma\u001b[0m \u001b[1;33m=\u001b[0m \u001b[0mSolution\u001b[0m\u001b[1;33m(\u001b[0m\u001b[1;33m)\u001b[0m\u001b[1;33m\u001b[0m\u001b[1;33m\u001b[0m\u001b[0m\n\u001b[1;32m---> 31\u001b[1;33m     \u001b[0ma\u001b[0m\u001b[1;33m.\u001b[0m\u001b[0maddTwoNumbers\u001b[0m\u001b[1;33m(\u001b[0m\u001b[1;36m124\u001b[0m\u001b[1;33m,\u001b[0m\u001b[1;36m12\u001b[0m\u001b[1;33m)\u001b[0m\u001b[1;33m\u001b[0m\u001b[1;33m\u001b[0m\u001b[0m\n\u001b[0m",
      "\u001b[1;32m<ipython-input-182-2c5e8d0f7022>\u001b[0m in \u001b[0;36maddTwoNumbers\u001b[1;34m(self, l1, l2)\u001b[0m\n\u001b[0;32m      2\u001b[0m     \u001b[1;32mdef\u001b[0m \u001b[0maddTwoNumbers\u001b[0m\u001b[1;33m(\u001b[0m\u001b[0mself\u001b[0m\u001b[1;33m,\u001b[0m \u001b[0ml1\u001b[0m\u001b[1;33m,\u001b[0m \u001b[0ml2\u001b[0m\u001b[1;33m)\u001b[0m\u001b[1;33m:\u001b[0m\u001b[1;33m\u001b[0m\u001b[1;33m\u001b[0m\u001b[0m\n\u001b[0;32m      3\u001b[0m \u001b[1;33m\u001b[0m\u001b[0m\n\u001b[1;32m----> 4\u001b[1;33m         \u001b[0mans\u001b[0m \u001b[1;33m=\u001b[0m \u001b[0mListNode\u001b[0m\u001b[1;33m(\u001b[0m\u001b[1;36m0\u001b[0m\u001b[1;33m)\u001b[0m\u001b[1;33m\u001b[0m\u001b[1;33m\u001b[0m\u001b[0m\n\u001b[0m\u001b[0;32m      5\u001b[0m         \u001b[0mtemp\u001b[0m \u001b[1;33m=\u001b[0m \u001b[0mans\u001b[0m\u001b[1;33m\u001b[0m\u001b[1;33m\u001b[0m\u001b[0m\n\u001b[0;32m      6\u001b[0m         \u001b[0mtempsum\u001b[0m \u001b[1;33m=\u001b[0m \u001b[1;36m0\u001b[0m\u001b[1;33m\u001b[0m\u001b[1;33m\u001b[0m\u001b[0m\n",
      "\u001b[1;31mNameError\u001b[0m: name 'ListNode' is not defined"
     ]
    }
   ],
   "source": [
    "class Solution:\n",
    "    def addTwoNumbers(self, l1, l2):\n",
    "\n",
    "        ans = ListNode(0)  \n",
    "        temp = ans\n",
    "        tempsum = 0\n",
    "\n",
    "        \n",
    "        while True:\n",
    "            if (l1 != None):\n",
    "                tempsum = l1.val + tempsum\n",
    "                l1 = l1.next               \n",
    "            if (l2 != None):\n",
    "                tempsum = tempsum + l2.val\n",
    "                l2 = l2.next               \n",
    "                        \n",
    "            temp.val = tempsum % 10        \n",
    "            print(tempsum)\n",
    "            tempsum  = int(tempsum / 10)  \n",
    "            if l1 == None  and l2 == None and tempsum == 0: \n",
    "                break                                                         \n",
    "                          \n",
    "            temp.next = ListNode(0) \n",
    "            temp = temp.next       \n",
    "        return ans\n",
    "    \n",
    "    \n",
    "    \n",
    "if __name__ == \"__main__\":\n",
    "    a = Solution()\n",
    "    a.addTwoNumbers(124,12)"
   ]
  },
  {
   "cell_type": "code",
   "execution_count": 185,
   "metadata": {},
   "outputs": [
    {
     "name": "stdout",
     "output_type": "stream",
     "text": [
      "49\n"
     ]
    }
   ],
   "source": [
    "def maxArea(height):\n",
    "    \n",
    "    max_area = 0\n",
    "    l = 0\n",
    "    r = len(height)-1\n",
    "    while l < r:\n",
    "        max_area = max(max_area,min(height[l],height[r])*(r-l))\n",
    "        if height[l]<height[r]:\n",
    "            l += 1\n",
    "        else:\n",
    "            r -= 1\n",
    "    return max_area\n",
    "\n",
    "\n",
    "if __name__ == \"__main__\":\n",
    "    print(maxArea([1,8,6,2,5,4,8,3,7]))"
   ]
  },
  {
   "cell_type": "code",
   "execution_count": 196,
   "metadata": {},
   "outputs": [
    {
     "name": "stdout",
     "output_type": "stream",
     "text": [
      "CDLIII\n"
     ]
    }
   ],
   "source": [
    "def intToRom(num):\n",
    "    num_list = [1000,900,500,400,100,90,50,40,10,9,5,4,1]\n",
    "    rom_list = ['M','CM','D','CD','C','XC','L','XL','X','IX','V','IV','I']\n",
    "    if num<1 or num>3999:\n",
    "        return 0\n",
    "    results = ''\n",
    "    for i in range(len(num_list)):\n",
    "        while num >= num_list[i]:\n",
    "            num -= num_list[i]\n",
    "            results += rom_list[i]\n",
    "    \n",
    "    return results\n",
    "        \n",
    "print(intToRom(453))"
   ]
  },
  {
   "cell_type": "code",
   "execution_count": 188,
   "metadata": {},
   "outputs": [
    {
     "name": "stdout",
     "output_type": "stream",
     "text": [
      "MMMCMXCIX\n"
     ]
    }
   ],
   "source": [
    "class Solution(object):\n",
    "    def intToRoman(self, num):\n",
    "        \"\"\"\n",
    "        :type num: int\n",
    "        :rtype: str\n",
    "        \"\"\"\n",
    "        if num > 3999 or num < 1:\n",
    "            return 0\n",
    "        # 字典是无序的，所以不使用字典\n",
    "        # 注意这里一定要是倒序，否则执行会有问题，让数从大往小查找适合的罗马数\n",
    "        num_tuple = [1000, 900, 500, 400, 100, 90, 50, 40, 10, 9, 5, 4, 1]\n",
    "        roman_tuple = ['M', 'CM', 'D', 'CD', 'C', 'XC', 'L', 'XL', 'X', 'IX', 'V', 'IV', 'I']\n",
    "        # 记录结果的字符串\n",
    "        result_str = \"\"\n",
    "        # 从整数的列表中开始遍历\n",
    "        for i in range(len(num_tuple)):\n",
    "            # 从大往小开始判断，num小于当前数则进行下一次循环\n",
    "            # num大于当前数则进行减法运算，并取出相应位置的Roman数\n",
    "            while num >= num_tuple[i]:\n",
    "                num -= num_tuple[i]\n",
    "                result_str += roman_tuple[i]\n",
    "        return result_str\n",
    "\n",
    "\n",
    "if __name__ == '__main__':\n",
    "    s = Solution()\n",
    "    print(s.intToRoman(3999))"
   ]
  },
  {
   "cell_type": "code",
   "execution_count": 204,
   "metadata": {},
   "outputs": [
    {
     "name": "stdout",
     "output_type": "stream",
     "text": [
      "[[-1, -1, 2], [-1, 0, 1]]\n"
     ]
    }
   ],
   "source": [
    "# -*- coding: utf-8 -*-\n",
    "\"\"\"\n",
    "Created on Sat Mar 17 16:30:25 2018\n",
    "\n",
    "@author: Saul\n",
    "\"\"\"\n",
    "class Solution:\n",
    "    def threeSum(self, nums):\n",
    "        \"\"\"\n",
    "        :type nums: List[int]\n",
    "        :rtype: List[List[int]]\n",
    "        \"\"\"\n",
    "        ans = []\n",
    "        nums.sort()\n",
    "        for i in range(len(nums)-2):\n",
    "            if i == 0 or nums[i] > nums[i-1]:\n",
    "                left = i+1\n",
    "                right = len(nums)-1\n",
    "                while left < right:\n",
    "                    ident = nums[left] + nums[right] + nums[i]\n",
    "                    if ident == 0:\n",
    "                        ans.append([nums[i], nums[left], nums[right]])\n",
    "                        left += 1; right -= 1\n",
    "                        while left < right and nums[left] == nums[left-1]:    # skip duplicates\n",
    "                            left += 1\n",
    "                        while left < right and nums[right] == nums[right+1]:\n",
    "                            right -= 1\n",
    "                    elif ident < 0:\n",
    "                        left += 1\n",
    "                    else:\n",
    "                        right -= 1\n",
    "        return ans\n",
    "    \n",
    "    \n",
    "if __name__ == '__main__':\n",
    "    s = Solution()\n",
    "    print(s.threeSum([-1,1,0,2,-1]))"
   ]
  },
  {
   "cell_type": "code",
   "execution_count": 209,
   "metadata": {},
   "outputs": [
    {
     "name": "stdout",
     "output_type": "stream",
     "text": [
      "[-1, -1, 0, 1, 2]\n",
      "bbb 0\n",
      "aa 1\n",
      "-1 -1\n",
      "bbb 2\n",
      "[[-1, -1, 2], [-1, 0, 1]]\n"
     ]
    }
   ],
   "source": [
    "class Solution(object):\n",
    "    def threeSum(self, nums):\n",
    "        \"\"\"\n",
    "        :type nums: List[int]\n",
    "        :rtype: List[List[int]]\n",
    "        \"\"\"\n",
    "        nums.sort()\n",
    "        L, res = len(nums), []\n",
    "        print(nums)\n",
    "        for i in range(L-2):\n",
    "            if i > 0 and nums[i] == nums[i-1]:\n",
    "                print('aa',i)\n",
    "                print(nums[i],nums[i-1])\n",
    "                continue\n",
    "            print('bbb',i)\n",
    "            target = -1 * nums[i]\n",
    "            j,k = i + 1, L - 1\n",
    "            while j<k:\n",
    "                if nums[j]+nums[k] == target:\n",
    "                    res.append([nums[i], nums[j], nums[k]])\n",
    "                    j = j + 1\n",
    "                    while j<k and nums[j] == nums[j-1]:\n",
    "                        j = j + 1\n",
    "                elif nums[j] + nums[k] < target:\n",
    "                    j = j + 1\n",
    "                else:\n",
    "                    k = k - 1\n",
    "        return res\n",
    "    \n",
    "    \n",
    "if __name__ == '__main__':\n",
    "    s = Solution()\n",
    "    print(s.threeSum([-1,1,0,2,-1]))"
   ]
  },
  {
   "cell_type": "code",
   "execution_count": null,
   "metadata": {},
   "outputs": [],
   "source": [
    "def threeSum(nums):\n",
    "    nums.sort()\n",
    "    results = []\n",
    "    for i in range(len(nums)-2):\n",
    "        while i>0 and nums[i]==nums[i-1]:\n",
    "            continue\n",
    "        target = -1*nums[i]\n",
    "        j,k = i+1,len(nums)-1\n",
    "        print('a')\n",
    "        while j<k:\n",
    "            if nums[j]+nums[k]==target:\n",
    "                print('ad')\n",
    "                results.append([nums[i],nums[j],nums[k]])\n",
    "                print(results)\n",
    "                j += 1\n",
    "            elif nums[j]+nums[k] < target:\n",
    "                j += 1\n",
    "            else:\n",
    "                k -= 1\n",
    "            while j<k and nums[j]==nums[j-1]:\n",
    "                j += 1\n",
    "                \n",
    "    return results\n",
    "\n",
    "\n",
    "if __name__ == \"__main__\":\n",
    "    print(threeSum([-1,1,0,2,-1]))\n"
   ]
  },
  {
   "cell_type": "code",
   "execution_count": null,
   "metadata": {},
   "outputs": [],
   "source": [
    "def threeSum(nums):\n",
    "    nums.sort()\n",
    "    results = []\n",
    "    for i in range(len(nums)-2):\n",
    "        while i>0 and nums[i]==nums[i-1]:\n",
    "            continue\n",
    "        target = -1*nums[i]\n",
    "        j,k = i+1,len(nums)-1\n",
    "        print('a')\n",
    "        while j<k:\n",
    "            if nums[j]+nums[k]==target:\n",
    "                print('ad')\n",
    "                results.append([nums[i],nums[j],nums[k]])\n",
    "                print(results)\n",
    "                j += 1\n",
    "            elif nums[j]+nums[k] < target:\n",
    "                j += 1\n",
    "            else:\n",
    "                k -= 1\n",
    "            while j<k and nums[j]==nums[j-1]:\n",
    "                j += 1\n",
    "                \n",
    "    return results\n",
    "\n",
    "\n",
    "if __name__ == \"__main__\":\n",
    "    print(threeSum([-1,1,0,2,-1]))\n"
   ]
  },
  {
   "cell_type": "code",
   "execution_count": null,
   "metadata": {},
   "outputs": [],
   "source": [
    "def threeSum(nums):\n",
    "    nums.sort()\n",
    "    print('a')\n",
    "    results = []\n",
    "    for i in range(len(nums)-2):\n",
    "        while i>0 and nums[i]==nums[i-1]:\n",
    "            continue\n",
    "        target = -1*nums[i]\n",
    "        j,k = i+1,len(nums)-1\n",
    "        print('a')\n",
    "        while j<k:\n",
    "            if nums[j]+nums[k]==target:\n",
    "                print('ad')\n",
    "                results.append([nums[i],nums[j],nums[k]])\n",
    "                print(results)\n",
    "                j += 1\n",
    "            elif nums[j]+nums[k] < target:\n",
    "                j += 1\n",
    "            else:\n",
    "                k -= 1\n",
    "            while j<k and nums[j]==nums[j-1]:\n",
    "                j += 1\n",
    "                \n",
    "    return results\n",
    "\n",
    "\n",
    "if __name__ == \"__main__\":\n",
    "    print('a')\n",
    "    print(threeSum([-1,1,0,2,-1]))"
   ]
  },
  {
   "cell_type": "code",
   "execution_count": null,
   "metadata": {},
   "outputs": [],
   "source": [
    "print('dcsa')"
   ]
  },
  {
   "cell_type": "code",
   "execution_count": null,
   "metadata": {},
   "outputs": [],
   "source": []
  }
 ],
 "metadata": {
  "kernelspec": {
   "display_name": "Python 3",
   "language": "python",
   "name": "python3"
  },
  "language_info": {
   "codemirror_mode": {
    "name": "ipython",
    "version": 3
   },
   "file_extension": ".py",
   "mimetype": "text/x-python",
   "name": "python",
   "nbconvert_exporter": "python",
   "pygments_lexer": "ipython3",
   "version": "3.6.8"
  }
 },
 "nbformat": 4,
 "nbformat_minor": 2
}
